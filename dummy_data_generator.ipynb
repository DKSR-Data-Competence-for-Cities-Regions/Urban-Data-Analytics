{
 "cells": [
  {
   "cell_type": "code",
   "execution_count": null,
   "metadata": {},
   "outputs": [],
   "source": [
    "import pandas as pd\n",
    "import numpy as np\n",
    "import time\n",
    "import keplergl as kgl\n",
    "\n",
    "# note that a geojson LineString and a shapely LineString are two different data types\n",
    "from geojson import LineString as geoLS\n",
    "from shapely.geometry import LineString as shapLS\n",
    "from shapely.ops import unary_union\n",
    "from shapely import MultiPoint\n",
    "\n",
    "#take it from https://github.com/DKSR-Data-Competence-for-Cities-Regions/Urban-Data-Analytics/tree/dummy_data_generator/dksr_lib\n",
    "from dksr import extract_sample_network\n",
    "from dksr import trace_transform"
   ]
  },
  {
   "cell_type": "code",
   "execution_count": null,
   "metadata": {},
   "outputs": [],
   "source": [
    "# a nice area in Kreuzberg\n",
    "# a good adress to find your bbox of choice, make sure your bbox is not to small to achieve a nicer output\n",
    "north, east, south, west = 52.460298,13.328991,52.515803,13.455849"
   ]
  },
  {
   "cell_type": "code",
   "execution_count": null,
   "metadata": {},
   "outputs": [],
   "source": [
    "df = extract_sample_network(north, east, south, west, 50, seed=42)"
   ]
  },
  {
   "cell_type": "code",
   "execution_count": null,
   "metadata": {},
   "outputs": [],
   "source": [
    "df.head(10)#.style.background_gradient(cmap='Blues', subset='length_km')"
   ]
  },
  {
   "cell_type": "code",
   "execution_count": null,
   "metadata": {},
   "outputs": [],
   "source": [
    "df = trace_transform(df=df, speed=15, distance_delta=0.0001)"
   ]
  },
  {
   "cell_type": "code",
   "execution_count": null,
   "metadata": {},
   "outputs": [],
   "source": [
    "df.head(10)"
   ]
  },
  {
   "cell_type": "code",
   "execution_count": null,
   "metadata": {},
   "outputs": [],
   "source": [
    "\"\"\"\n",
    "KeplerGL expects a GeoJSON string with 4 coordinates in order to visualize trips:\n",
    "1) lng\n",
    "2) lat\n",
    "3) alt\n",
    "4) timestamp\n",
    "\"\"\"\n",
    "\n",
    "# Create a new dataframe to store the resulting GeoJSON strings\n",
    "geo_list = pd.DataFrame(np.zeros((len(df)),dtype=object),columns=['geo_json'])\n",
    "\n",
    "# Iterate over each row in the input dataframe\n",
    "for i in range(0,len(df)):\n",
    "    \n",
    "    # Create a list of zeros with the same length as the coordinates list for the current row\n",
    "    z_list = [0] * len(df['coordinates'][i])\n",
    "    \n",
    "    # Combine the coordinates list with the zero list to create a new list with a third dimension of zeros\n",
    "    list0 = df['coordinates'][i]\n",
    "    list1 = np.insert(list0,2,z_list,axis=1)\n",
    "    \n",
    "    # Insert the timestamp list into the new list as the fourth dimension\n",
    "    list2 = np.insert(list1,3,df['timestamps_list'][i],axis=1)\n",
    "        \n",
    "    # Convert the resulting 3D list to a GeoJSON string and store it in the new dataframe\n",
    "    geo_list.iloc[i] = [geoLS(list2.tolist())]"
   ]
  },
  {
   "cell_type": "code",
   "execution_count": null,
   "metadata": {},
   "outputs": [],
   "source": [
    "#OSMnx returns values in lat, lng while KeplerGL expetcs them in lng,lat\n",
    "def switch_lat_lon(coords):\n",
    "    return [coords[1], coords[0], coords[2], coords[3]]"
   ]
  },
  {
   "cell_type": "code",
   "execution_count": null,
   "metadata": {},
   "outputs": [],
   "source": [
    "geo_list['geo_json'] = geo_list['geo_json'].apply(lambda x: {'type': x['type'], 'coordinates': [switch_lat_lon(coord) for coord in x['coordinates']]})"
   ]
  },
  {
   "cell_type": "code",
   "execution_count": null,
   "metadata": {},
   "outputs": [],
   "source": [
    "#plot it\n",
    "map = kgl.KeplerGl(height=800,data={'Scooters': geo_list})\n",
    "map"
   ]
  },
  {
   "cell_type": "code",
   "execution_count": null,
   "metadata": {},
   "outputs": [],
   "source": []
  }
 ],
 "metadata": {
  "kernelspec": {
   "display_name": "dksr_kgl",
   "language": "python",
   "name": "python3"
  },
  "language_info": {
   "codemirror_mode": {
    "name": "ipython",
    "version": 3
   },
   "file_extension": ".py",
   "mimetype": "text/x-python",
   "name": "python",
   "nbconvert_exporter": "python",
   "pygments_lexer": "ipython3",
   "version": "3.10.9"
  },
  "orig_nbformat": 4
 },
 "nbformat": 4,
 "nbformat_minor": 2
}
