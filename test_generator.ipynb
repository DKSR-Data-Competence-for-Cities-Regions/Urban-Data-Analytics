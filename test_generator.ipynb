{
 "cells": [
  {
   "cell_type": "code",
   "execution_count": null,
   "metadata": {},
   "outputs": [],
   "source": [
    "import pandas as pd\n",
    "import numpy as np\n",
    "import time\n",
    "import keplergl as kgl\n",
    "from dksr import extract_sample_network\n",
    "from geojson import LineString as geoLS\n",
    "from shapely.geometry import LineString as shapLS\n",
    "from shapely.ops import unary_union\n",
    "from shapely import MultiPoint"
   ]
  },
  {
   "cell_type": "code",
   "execution_count": null,
   "metadata": {},
   "outputs": [],
   "source": [
    "#north, east, south, west = 33.798, -84.378, 33.763, -84.422 "
   ]
  },
  {
   "cell_type": "code",
   "execution_count": null,
   "metadata": {},
   "outputs": [],
   "source": [
    "#berlin\n",
    "north, east, south, west = 52.460298,13.328991,52.515803,13.455849"
   ]
  },
  {
   "cell_type": "code",
   "execution_count": null,
   "metadata": {},
   "outputs": [],
   "source": [
    "df = extract_sample_network(north, east, south, west, 50, seed=42)"
   ]
  },
  {
   "cell_type": "code",
   "execution_count": null,
   "metadata": {},
   "outputs": [],
   "source": [
    "df.head(10)#.style.background_gradient(cmap='Blues', subset='length_km')"
   ]
  },
  {
   "cell_type": "code",
   "execution_count": null,
   "metadata": {},
   "outputs": [],
   "source": [
    "geo_list = pd.DataFrame(np.zeros((len(df)),dtype=object),columns=['geo_json'])\n",
    "                            \n",
    "for i in range(0,len(df)):                       \n",
    "    z_list = [0] * len(df['coordinates'][i])\n",
    "    list0 = df['coordinates'][i]\n",
    "    list1 = np.insert(list0,2,z_list,axis=1)\n",
    "        \n",
    "    geo_list.iloc[i] = [geoLS(list1.tolist())]"
   ]
  },
  {
   "cell_type": "code",
   "execution_count": null,
   "metadata": {},
   "outputs": [],
   "source": [
    "geo_list.iloc[0]"
   ]
  },
  {
   "cell_type": "code",
   "execution_count": null,
   "metadata": {},
   "outputs": [],
   "source": [
    "#OSMnx returns values in lat, lng while KeplerGL expetcs them in lng,lat\n",
    "def switch_lat_lon(coords):\n",
    "    return [coords[1], coords[0], coords[2]]"
   ]
  },
  {
   "cell_type": "code",
   "execution_count": null,
   "metadata": {},
   "outputs": [],
   "source": [
    "# Apply the function to the 'coordinates' column using a lambda function\n",
    "geo_list['geo_json'] = geo_list['geo_json'].apply(lambda x: {'type': x['type'], 'coordinates': [switch_lat_lon(coord) for coord in x['coordinates']]})"
   ]
  },
  {
   "cell_type": "code",
   "execution_count": null,
   "metadata": {},
   "outputs": [],
   "source": [
    "from IPython.display import display\n",
    "with pd.option_context('display.max_colwidth', None):\n",
    "    display(geo_list.iloc[1])"
   ]
  },
  {
   "cell_type": "code",
   "execution_count": null,
   "metadata": {},
   "outputs": [],
   "source": [
    "#a first test plot\n",
    "#map_0 = kgl.KeplerGl(height=800,data={'Scooters': geo_list})\n",
    "#map_0"
   ]
  },
  {
   "cell_type": "code",
   "execution_count": null,
   "metadata": {},
   "outputs": [],
   "source": [
    "geo_list.iloc[0]"
   ]
  },
  {
   "cell_type": "code",
   "execution_count": null,
   "metadata": {},
   "outputs": [],
   "source": [
    "# further transform routes data\n",
    "# 1. interpolate the various LineStrings by shapely LineString interoplate function\n",
    "# 2. generate timestamps for every interpolated point on a LineString"
   ]
  },
  {
   "cell_type": "code",
   "execution_count": null,
   "metadata": {},
   "outputs": [],
   "source": [
    "def trace_transform(df, speed, distance_delta):\n",
    "    new_df = pd.DataFrame(columns=['coordinates', 'length_km', 'timestamps_list'])\n",
    "    \n",
    "    for index, row in df.iterrows():\n",
    "        coordinates = row['coordinates']\n",
    "        length_km = row['length_km']\n",
    "\n",
    "        # create points by given distance_delta\n",
    "        line = LineString(coordinates)\n",
    "        distances = np.arange(0, line.length, distance_delta)\n",
    "        points = MultiPoint([line.interpolate(distance) for distance in distances])\n",
    "        lat_lon_values = [[p.x, p.y] for p in points.geoms]\n",
    "\n",
    "        # partition_length in km\n",
    "        total_points = len(lat_lon_values)\n",
    "        partition_length = (length_km / total_points)\n",
    "\n",
    "        # time distance in seconds\n",
    "        time_delta = (partition_length / speed) * 3600\n",
    "\n",
    "        row_timestamps = []\n",
    "\n",
    "        for i in range(total_points):\n",
    "            if i == 0:\n",
    "                # set initial timestamp to current time\n",
    "                row_timestamps.append(time.time())\n",
    "            else:\n",
    "                # calculate the time delta from the previous point\n",
    "                time_delta = (partition_length / speed) * 3600\n",
    "                # add the time delta to the previous timestamp\n",
    "                prev_timestamp = row_timestamps[-1]\n",
    "                next_timestamp = prev_timestamp + time_delta\n",
    "                # append the new timestamp to the list\n",
    "                row_timestamps.append(next_timestamp)\n",
    "\n",
    "        new_df = new_df.append({'coordinates': lat_lon_values, 'length_km': length_km, 'timestamps_list': row_timestamps},\n",
    "                               ignore_index=True)\n",
    "\n",
    "    return new_df"
   ]
  },
  {
   "cell_type": "code",
   "execution_count": null,
   "metadata": {},
   "outputs": [],
   "source": [
    "df = trace_transform(df=df, speed=15, distance_delta=0.0001)"
   ]
  },
  {
   "cell_type": "code",
   "execution_count": null,
   "metadata": {},
   "outputs": [],
   "source": [
    "df.head(5)"
   ]
  },
  {
   "cell_type": "code",
   "execution_count": null,
   "metadata": {},
   "outputs": [],
   "source": [
    "geo_list = pd.DataFrame(np.zeros((len(df)),dtype=object),columns=['geo_json'])\n",
    "                            \n",
    "for i in range(0,len(df)):                       \n",
    "    z_list = [0] * len(df['coordinates'][i])\n",
    "    list0 = df['coordinates'][i]\n",
    "    list1 = np.insert(list0,2,z_list,axis=1)\n",
    "    list2 = np.insert(list1,3,df['timestamps_list'][i],axis=1)\n",
    "        \n",
    "    geo_list.iloc[i] = [geoLS(list2.tolist())]"
   ]
  },
  {
   "cell_type": "code",
   "execution_count": null,
   "metadata": {},
   "outputs": [],
   "source": [
    "geo_list['geo_json'] = geo_list['geo_json'].apply(lambda x: {'type': x['type'], 'coordinates': [switch_lat_lon(coord) for coord in x['coordinates']]})"
   ]
  },
  {
   "cell_type": "code",
   "execution_count": null,
   "metadata": {},
   "outputs": [],
   "source": [
    "# a second plot\n",
    "map_1 = kgl.KeplerGl(height=800,data={'Scooters': geo_list})\n",
    "map_1"
   ]
  },
  {
   "cell_type": "code",
   "execution_count": null,
   "metadata": {},
   "outputs": [],
   "source": []
  }
 ],
 "metadata": {
  "kernelspec": {
   "display_name": "dksr_kgl",
   "language": "python",
   "name": "python3"
  },
  "language_info": {
   "codemirror_mode": {
    "name": "ipython",
    "version": 3
   },
   "file_extension": ".py",
   "mimetype": "text/x-python",
   "name": "python",
   "nbconvert_exporter": "python",
   "pygments_lexer": "ipython3",
   "version": "3.10.9"
  },
  "orig_nbformat": 4
 },
 "nbformat": 4,
 "nbformat_minor": 2
}
