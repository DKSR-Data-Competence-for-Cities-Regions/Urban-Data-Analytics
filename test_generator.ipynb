{
 "cells": [
  {
   "cell_type": "code",
   "execution_count": 3,
   "metadata": {},
   "outputs": [],
   "source": [
    "import pandas as pd\n",
    "import numpy as np\n",
    "import keplergl as kgl\n",
    "from dksr import extract_sample_network\n",
    "from geojson import LineString"
   ]
  },
  {
   "cell_type": "code",
   "execution_count": 4,
   "metadata": {},
   "outputs": [],
   "source": [
    "#north, east, south, west = 33.798, -84.378, 33.763, -84.422 "
   ]
  },
  {
   "cell_type": "code",
   "execution_count": 5,
   "metadata": {},
   "outputs": [],
   "source": [
    "#berlin\n",
    "north, east, south, west = 52.460298,13.328991,52.515803,13.455849"
   ]
  },
  {
   "cell_type": "code",
   "execution_count": 6,
   "metadata": {},
   "outputs": [],
   "source": [
    "routes = extract_sample_network(north, east, south, west, 50)"
   ]
  },
  {
   "cell_type": "code",
   "execution_count": 7,
   "metadata": {},
   "outputs": [
    {
     "data": {
      "text/html": [
       "<div>\n",
       "<style scoped>\n",
       "    .dataframe tbody tr th:only-of-type {\n",
       "        vertical-align: middle;\n",
       "    }\n",
       "\n",
       "    .dataframe tbody tr th {\n",
       "        vertical-align: top;\n",
       "    }\n",
       "\n",
       "    .dataframe thead th {\n",
       "        text-align: right;\n",
       "    }\n",
       "</style>\n",
       "<table border=\"1\" class=\"dataframe\">\n",
       "  <thead>\n",
       "    <tr style=\"text-align: right;\">\n",
       "      <th></th>\n",
       "      <th>coordinates</th>\n",
       "      <th>length_km</th>\n",
       "    </tr>\n",
       "  </thead>\n",
       "  <tbody>\n",
       "    <tr>\n",
       "      <th>0</th>\n",
       "      <td>[[52.4796132, 13.3769998], [52.480768, 13.3774...</td>\n",
       "      <td>6.228533</td>\n",
       "    </tr>\n",
       "    <tr>\n",
       "      <th>1</th>\n",
       "      <td>[[52.4615683, 13.4089738], [52.4620933, 13.406...</td>\n",
       "      <td>5.398209</td>\n",
       "    </tr>\n",
       "    <tr>\n",
       "      <th>2</th>\n",
       "      <td>[[52.5037526, 13.331418], [52.5043469, 13.3356...</td>\n",
       "      <td>4.555723</td>\n",
       "    </tr>\n",
       "    <tr>\n",
       "      <th>3</th>\n",
       "      <td>[[52.5103564, 13.3448622], [52.5099077, 13.346...</td>\n",
       "      <td>2.748723</td>\n",
       "    </tr>\n",
       "    <tr>\n",
       "      <th>4</th>\n",
       "      <td>[[52.4879558, 13.3859361], [52.487361, 13.3858...</td>\n",
       "      <td>4.679504</td>\n",
       "    </tr>\n",
       "    <tr>\n",
       "      <th>5</th>\n",
       "      <td>[[52.503413, 13.4258192], [52.5020664, 13.4248...</td>\n",
       "      <td>9.056159</td>\n",
       "    </tr>\n",
       "    <tr>\n",
       "      <th>6</th>\n",
       "      <td>[[52.5070781, 13.3982941], [52.5069577, 13.394...</td>\n",
       "      <td>1.388584</td>\n",
       "    </tr>\n",
       "    <tr>\n",
       "      <th>7</th>\n",
       "      <td>[[52.5015246, 13.3820299], [52.5013379, 13.386...</td>\n",
       "      <td>5.677448</td>\n",
       "    </tr>\n",
       "    <tr>\n",
       "      <th>8</th>\n",
       "      <td>[[52.4926744, 13.3709242], [52.4916197, 13.376...</td>\n",
       "      <td>3.214456</td>\n",
       "    </tr>\n",
       "    <tr>\n",
       "      <th>9</th>\n",
       "      <td>[[52.4817319, 13.4401779], [52.4827418, 13.438...</td>\n",
       "      <td>2.999894</td>\n",
       "    </tr>\n",
       "  </tbody>\n",
       "</table>\n",
       "</div>"
      ],
      "text/plain": [
       "                                         coordinates  length_km\n",
       "0  [[52.4796132, 13.3769998], [52.480768, 13.3774...   6.228533\n",
       "1  [[52.4615683, 13.4089738], [52.4620933, 13.406...   5.398209\n",
       "2  [[52.5037526, 13.331418], [52.5043469, 13.3356...   4.555723\n",
       "3  [[52.5103564, 13.3448622], [52.5099077, 13.346...   2.748723\n",
       "4  [[52.4879558, 13.3859361], [52.487361, 13.3858...   4.679504\n",
       "5  [[52.503413, 13.4258192], [52.5020664, 13.4248...   9.056159\n",
       "6  [[52.5070781, 13.3982941], [52.5069577, 13.394...   1.388584\n",
       "7  [[52.5015246, 13.3820299], [52.5013379, 13.386...   5.677448\n",
       "8  [[52.4926744, 13.3709242], [52.4916197, 13.376...   3.214456\n",
       "9  [[52.4817319, 13.4401779], [52.4827418, 13.438...   2.999894"
      ]
     },
     "execution_count": 7,
     "metadata": {},
     "output_type": "execute_result"
    }
   ],
   "source": [
    "routes.head(10)#.style.background_gradient(cmap='Blues', subset='length_km')"
   ]
  },
  {
   "cell_type": "code",
   "execution_count": 8,
   "metadata": {},
   "outputs": [],
   "source": [
    "geo_list = pd.DataFrame(np.zeros((len(routes)),dtype=object),columns=['geo_json'])\n",
    "                            \n",
    "for i in range(0,len(routes)):                       \n",
    "    z_list = [0] * len(routes['coordinates'][i])\n",
    "    list0 = routes['coordinates'][i]\n",
    "    list1 = np.insert(list0,2,z_list,axis=1)\n",
    "        \n",
    "    geo_list.iloc[i] = [LineString(list1.tolist())]"
   ]
  },
  {
   "cell_type": "code",
   "execution_count": 9,
   "metadata": {},
   "outputs": [
    {
     "data": {
      "text/plain": [
       "geo_json    {'type': 'LineString', 'coordinates': [[52.479...\n",
       "Name: 0, dtype: object"
      ]
     },
     "execution_count": 9,
     "metadata": {},
     "output_type": "execute_result"
    }
   ],
   "source": [
    "geo_list.iloc[0]"
   ]
  },
  {
   "cell_type": "code",
   "execution_count": 10,
   "metadata": {},
   "outputs": [],
   "source": [
    "#OSMnx returns values in lat, lng while KeplerGL expetcs them in lng,lat\n",
    "def switch_lat_lon(coords):\n",
    "    return [coords[1], coords[0], coords[2]]"
   ]
  },
  {
   "cell_type": "code",
   "execution_count": 11,
   "metadata": {},
   "outputs": [],
   "source": [
    "# Apply the function to the 'coordinates' column using a lambda function\n",
    "geo_list['geo_json'] = geo_list['geo_json'].apply(lambda x: {'type': x['type'], 'coordinates': [switch_lat_lon(coord) for coord in x['coordinates']]})"
   ]
  },
  {
   "cell_type": "code",
   "execution_count": 12,
   "metadata": {},
   "outputs": [
    {
     "data": {
      "text/plain": [
       "geo_json    {'type': 'LineString', 'coordinates': [[13.408974, 52.461568, 0.0], [13.406252, 52.462093, 0.0], [13.400608, 52.465422, 0.0], [13.389534, 52.469346, 0.0], [13.38018, 52.47, 0.0], [13.37673, 52.470171, 0.0], [13.358883, 52.474267, 0.0], [13.35638, 52.47382, 0.0], [13.349209, 52.475234, 0.0], [13.34889, 52.475436, 0.0], [13.347093, 52.476772, 0.0], [13.344364, 52.478569, 0.0], [13.345023, 52.479182, 0.0], [13.347017, 52.4807, 0.0]]}\n",
       "Name: 1, dtype: object"
      ]
     },
     "metadata": {},
     "output_type": "display_data"
    }
   ],
   "source": [
    "from IPython.display import display\n",
    "with pd.option_context('display.max_colwidth', None):\n",
    "    display(geo_list.iloc[1])"
   ]
  },
  {
   "cell_type": "code",
   "execution_count": 13,
   "metadata": {},
   "outputs": [],
   "source": [
    "#a first test plot\n",
    "#map_0 = kgl.KeplerGl(height=800,data={'Scooters': geo_list})\n",
    "#map_0"
   ]
  },
  {
   "cell_type": "code",
   "execution_count": 14,
   "metadata": {},
   "outputs": [
    {
     "data": {
      "text/plain": [
       "geo_json    {'type': 'LineString', 'coordinates': [[13.377...\n",
       "Name: 0, dtype: object"
      ]
     },
     "execution_count": 14,
     "metadata": {},
     "output_type": "execute_result"
    }
   ],
   "source": [
    "geo_list.iloc[0]"
   ]
  },
  {
   "cell_type": "code",
   "execution_count": 15,
   "metadata": {},
   "outputs": [],
   "source": [
    "# further transform routes data\n",
    "# 1. interpolate the various LineStrings by shapely LineString interoplate function\n",
    "# 2. generate timestamps for every interpolated point on a LineString"
   ]
  },
  {
   "cell_type": "code",
   "execution_count": 16,
   "metadata": {},
   "outputs": [],
   "source": [
    "from shapely.geometry import LineString\n",
    "from shapely.ops import unary_union\n",
    "from shapely import MultiPoint"
   ]
  },
  {
   "cell_type": "code",
   "execution_count": 17,
   "metadata": {},
   "outputs": [],
   "source": [
    "test_route = geo_list.iloc[0]['geo_json']['coordinates']"
   ]
  },
  {
   "cell_type": "code",
   "execution_count": 18,
   "metadata": {},
   "outputs": [
    {
     "data": {
      "text/plain": [
       "41"
      ]
     },
     "execution_count": 18,
     "metadata": {},
     "output_type": "execute_result"
    }
   ],
   "source": [
    "len(test_route)"
   ]
  },
  {
   "cell_type": "code",
   "execution_count": 19,
   "metadata": {},
   "outputs": [],
   "source": [
    "line = LineString(test_route)"
   ]
  },
  {
   "cell_type": "code",
   "execution_count": 20,
   "metadata": {},
   "outputs": [],
   "source": [
    "distance_delta = 0.0001"
   ]
  },
  {
   "cell_type": "code",
   "execution_count": 21,
   "metadata": {},
   "outputs": [],
   "source": [
    "distances = np.arange(0, line.length, distance_delta)"
   ]
  },
  {
   "cell_type": "code",
   "execution_count": 22,
   "metadata": {},
   "outputs": [],
   "source": [
    "points = MultiPoint([line.interpolate(distance) for distance in distances])"
   ]
  },
  {
   "cell_type": "code",
   "execution_count": 23,
   "metadata": {},
   "outputs": [],
   "source": [
    "lat_lon_values = [(p.x, p.y) for p in points.geoms]"
   ]
  },
  {
   "cell_type": "code",
   "execution_count": 24,
   "metadata": {},
   "outputs": [
    {
     "data": {
      "text/plain": [
       "777"
      ]
     },
     "execution_count": 24,
     "metadata": {},
     "output_type": "execute_result"
    }
   ],
   "source": [
    "len(lat_lon_values)"
   ]
  },
  {
   "cell_type": "code",
   "execution_count": 25,
   "metadata": {},
   "outputs": [],
   "source": [
    "#calculate required timestamps by:\n",
    "# len(lat_lon_values)\n",
    "# lenght of route\n",
    "# assumed speed on average"
   ]
  },
  {
   "cell_type": "code",
   "execution_count": 26,
   "metadata": {},
   "outputs": [],
   "source": [
    "speed = 15"
   ]
  },
  {
   "cell_type": "code",
   "execution_count": 27,
   "metadata": {},
   "outputs": [
    {
     "ename": "SyntaxError",
     "evalue": "invalid syntax (2918352771.py, line 1)",
     "output_type": "error",
     "traceback": [
      "\u001b[1;36m  Cell \u001b[1;32mIn[27], line 1\u001b[1;36m\u001b[0m\n\u001b[1;33m    length_route =\u001b[0m\n\u001b[1;37m                   ^\u001b[0m\n\u001b[1;31mSyntaxError\u001b[0m\u001b[1;31m:\u001b[0m invalid syntax\n"
     ]
    }
   ],
   "source": [
    "#length_route = "
   ]
  },
  {
   "cell_type": "code",
   "execution_count": 28,
   "metadata": {},
   "outputs": [
    {
     "ename": "KeyError",
     "evalue": "'length_km'",
     "output_type": "error",
     "traceback": [
      "\u001b[1;31m---------------------------------------------------------------------------\u001b[0m",
      "\u001b[1;31mKeyError\u001b[0m                                  Traceback (most recent call last)",
      "Cell \u001b[1;32mIn[28], line 1\u001b[0m\n\u001b[1;32m----> 1\u001b[0m partition_lenght \u001b[39m=\u001b[39m geo_list\u001b[39m.\u001b[39;49miloc[\u001b[39m0\u001b[39;49m][\u001b[39m'\u001b[39;49m\u001b[39mgeo_json\u001b[39;49m\u001b[39m'\u001b[39;49m][\u001b[39m'\u001b[39;49m\u001b[39mlength_km\u001b[39;49m\u001b[39m'\u001b[39;49m]\n",
      "\u001b[1;31mKeyError\u001b[0m: 'length_km'"
     ]
    }
   ],
   "source": [
    "partition_lenght = geo_list.iloc[0]['geo_json']['length_km']"
   ]
  },
  {
   "cell_type": "code",
   "execution_count": null,
   "metadata": {},
   "outputs": [],
   "source": []
  }
 ],
 "metadata": {
  "kernelspec": {
   "display_name": "dksr_kgl",
   "language": "python",
   "name": "python3"
  },
  "language_info": {
   "codemirror_mode": {
    "name": "ipython",
    "version": 3
   },
   "file_extension": ".py",
   "mimetype": "text/x-python",
   "name": "python",
   "nbconvert_exporter": "python",
   "pygments_lexer": "ipython3",
   "version": "3.10.9"
  },
  "orig_nbformat": 4
 },
 "nbformat": 4,
 "nbformat_minor": 2
}
