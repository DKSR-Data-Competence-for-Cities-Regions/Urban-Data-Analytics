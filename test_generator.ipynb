{
 "cells": [
  {
   "cell_type": "code",
   "execution_count": 27,
   "metadata": {},
   "outputs": [],
   "source": [
    "import pandas as pd\n",
    "import numpy as np\n",
    "import time\n",
    "import keplergl as kgl\n",
    "from dksr import extract_sample_network\n",
    "from geojson import LineString as geoLS\n",
    "from shapely.geometry import LineString as shapLS\n",
    "from shapely.ops import unary_union\n",
    "from shapely import MultiPoint"
   ]
  },
  {
   "cell_type": "code",
   "execution_count": 28,
   "metadata": {},
   "outputs": [],
   "source": [
    "#north, east, south, west = 33.798, -84.378, 33.763, -84.422 "
   ]
  },
  {
   "cell_type": "code",
   "execution_count": 29,
   "metadata": {},
   "outputs": [],
   "source": [
    "#berlin\n",
    "north, east, south, west = 52.460298,13.328991,52.515803,13.455849"
   ]
  },
  {
   "cell_type": "code",
   "execution_count": 30,
   "metadata": {},
   "outputs": [],
   "source": [
    "df = extract_sample_network(north, east, south, west, 50, seed=42)"
   ]
  },
  {
   "cell_type": "code",
   "execution_count": 31,
   "metadata": {},
   "outputs": [
    {
     "data": {
      "text/html": [
       "<div>\n",
       "<style scoped>\n",
       "    .dataframe tbody tr th:only-of-type {\n",
       "        vertical-align: middle;\n",
       "    }\n",
       "\n",
       "    .dataframe tbody tr th {\n",
       "        vertical-align: top;\n",
       "    }\n",
       "\n",
       "    .dataframe thead th {\n",
       "        text-align: right;\n",
       "    }\n",
       "</style>\n",
       "<table border=\"1\" class=\"dataframe\">\n",
       "  <thead>\n",
       "    <tr style=\"text-align: right;\">\n",
       "      <th></th>\n",
       "      <th>coordinates</th>\n",
       "      <th>length_km</th>\n",
       "    </tr>\n",
       "  </thead>\n",
       "  <tbody>\n",
       "    <tr>\n",
       "      <th>0</th>\n",
       "      <td>[[52.479385, 13.4398505], [52.4792742, 13.4392...</td>\n",
       "      <td>3.287428</td>\n",
       "    </tr>\n",
       "    <tr>\n",
       "      <th>1</th>\n",
       "      <td>[[52.478999, 13.3623879], [52.4785928, 13.3633...</td>\n",
       "      <td>2.106747</td>\n",
       "    </tr>\n",
       "    <tr>\n",
       "      <th>2</th>\n",
       "      <td>[[52.4859791, 13.3561118], [52.4868623, 13.357...</td>\n",
       "      <td>0.687891</td>\n",
       "    </tr>\n",
       "    <tr>\n",
       "      <th>3</th>\n",
       "      <td>[[52.4844619, 13.3858234], [52.4843087, 13.384...</td>\n",
       "      <td>5.939523</td>\n",
       "    </tr>\n",
       "    <tr>\n",
       "      <th>4</th>\n",
       "      <td>[[52.4837392, 13.4358193], [52.4829385, 13.437...</td>\n",
       "      <td>3.354199</td>\n",
       "    </tr>\n",
       "    <tr>\n",
       "      <th>5</th>\n",
       "      <td>[[52.4989028, 13.3951472], [52.4989419, 13.395...</td>\n",
       "      <td>3.658486</td>\n",
       "    </tr>\n",
       "    <tr>\n",
       "      <th>6</th>\n",
       "      <td>[[52.4858086, 13.3369571], [52.4859013, 13.335...</td>\n",
       "      <td>5.385234</td>\n",
       "    </tr>\n",
       "    <tr>\n",
       "      <th>7</th>\n",
       "      <td>[[52.4681133, 13.4276733], [52.4674351, 13.427...</td>\n",
       "      <td>6.828486</td>\n",
       "    </tr>\n",
       "    <tr>\n",
       "      <th>8</th>\n",
       "      <td>[[52.465742, 13.3899696], [52.4658311, 13.3893...</td>\n",
       "      <td>10.365038</td>\n",
       "    </tr>\n",
       "    <tr>\n",
       "      <th>9</th>\n",
       "      <td>[[52.4947957, 13.4328748], [52.4938935, 13.428...</td>\n",
       "      <td>10.682533</td>\n",
       "    </tr>\n",
       "  </tbody>\n",
       "</table>\n",
       "</div>"
      ],
      "text/plain": [
       "                                         coordinates  length_km\n",
       "0  [[52.479385, 13.4398505], [52.4792742, 13.4392...   3.287428\n",
       "1  [[52.478999, 13.3623879], [52.4785928, 13.3633...   2.106747\n",
       "2  [[52.4859791, 13.3561118], [52.4868623, 13.357...   0.687891\n",
       "3  [[52.4844619, 13.3858234], [52.4843087, 13.384...   5.939523\n",
       "4  [[52.4837392, 13.4358193], [52.4829385, 13.437...   3.354199\n",
       "5  [[52.4989028, 13.3951472], [52.4989419, 13.395...   3.658486\n",
       "6  [[52.4858086, 13.3369571], [52.4859013, 13.335...   5.385234\n",
       "7  [[52.4681133, 13.4276733], [52.4674351, 13.427...   6.828486\n",
       "8  [[52.465742, 13.3899696], [52.4658311, 13.3893...  10.365038\n",
       "9  [[52.4947957, 13.4328748], [52.4938935, 13.428...  10.682533"
      ]
     },
     "execution_count": 31,
     "metadata": {},
     "output_type": "execute_result"
    }
   ],
   "source": [
    "df.head(10)#.style.background_gradient(cmap='Blues', subset='length_km')"
   ]
  },
  {
   "cell_type": "code",
   "execution_count": 32,
   "metadata": {},
   "outputs": [],
   "source": [
    "geo_list = pd.DataFrame(np.zeros((len(df)),dtype=object),columns=['geo_json'])\n",
    "                            \n",
    "for i in range(0,len(df)):                       \n",
    "    z_list = [0] * len(df['coordinates'][i])\n",
    "    list0 = df['coordinates'][i]\n",
    "    list1 = np.insert(list0,2,z_list,axis=1)\n",
    "        \n",
    "    geo_list.iloc[i] = [geoLS(list1.tolist())]"
   ]
  },
  {
   "cell_type": "code",
   "execution_count": 33,
   "metadata": {},
   "outputs": [
    {
     "data": {
      "text/plain": [
       "geo_json    {'type': 'LineString', 'coordinates': [[52.479...\n",
       "Name: 0, dtype: object"
      ]
     },
     "execution_count": 33,
     "metadata": {},
     "output_type": "execute_result"
    }
   ],
   "source": [
    "geo_list.iloc[0]"
   ]
  },
  {
   "cell_type": "code",
   "execution_count": 34,
   "metadata": {},
   "outputs": [],
   "source": [
    "#OSMnx returns values in lat, lng while KeplerGL expetcs them in lng,lat\n",
    "def switch_lat_lon(coords):\n",
    "    return [coords[1], coords[0], coords[2]]"
   ]
  },
  {
   "cell_type": "code",
   "execution_count": 35,
   "metadata": {},
   "outputs": [],
   "source": [
    "# Apply the function to the 'coordinates' column using a lambda function\n",
    "geo_list['geo_json'] = geo_list['geo_json'].apply(lambda x: {'type': x['type'], 'coordinates': [switch_lat_lon(coord) for coord in x['coordinates']]})"
   ]
  },
  {
   "cell_type": "code",
   "execution_count": 36,
   "metadata": {},
   "outputs": [
    {
     "data": {
      "text/plain": [
       "geo_json    {'type': 'LineString', 'coordinates': [[13.362388, 52.478999, 0.0], [13.363363, 52.478593, 0.0], [13.363443, 52.48138, 0.0], [13.36348, 52.483563, 0.0], [13.363639, 52.485183, 0.0], [13.363406, 52.485325, 0.0], [13.361487, 52.486046, 0.0], [13.360472, 52.486437, 0.0], [13.360283, 52.486328, 0.0], [13.358766, 52.485781, 0.0], [13.354191, 52.483484, 0.0], [13.352968, 52.484352, 0.0], [13.353241, 52.484494, 0.0], [13.353003, 52.484651, 0.0], [13.352731, 52.484518, 0.0]]}\n",
       "Name: 1, dtype: object"
      ]
     },
     "metadata": {},
     "output_type": "display_data"
    }
   ],
   "source": [
    "from IPython.display import display\n",
    "with pd.option_context('display.max_colwidth', None):\n",
    "    display(geo_list.iloc[1])"
   ]
  },
  {
   "cell_type": "code",
   "execution_count": 37,
   "metadata": {},
   "outputs": [],
   "source": [
    "#a first test plot\n",
    "#map_0 = kgl.KeplerGl(height=800,data={'Scooters': geo_list})\n",
    "#map_0"
   ]
  },
  {
   "cell_type": "code",
   "execution_count": 38,
   "metadata": {},
   "outputs": [
    {
     "data": {
      "text/plain": [
       "geo_json    {'type': 'LineString', 'coordinates': [[13.439...\n",
       "Name: 0, dtype: object"
      ]
     },
     "execution_count": 38,
     "metadata": {},
     "output_type": "execute_result"
    }
   ],
   "source": [
    "geo_list.iloc[0]"
   ]
  },
  {
   "cell_type": "code",
   "execution_count": 39,
   "metadata": {},
   "outputs": [],
   "source": [
    "# further transform routes data\n",
    "# 1. interpolate the various LineStrings by shapely LineString interoplate function\n",
    "# 2. generate timestamps for every interpolated point on a LineString"
   ]
  },
  {
   "cell_type": "code",
   "execution_count": 65,
   "metadata": {},
   "outputs": [],
   "source": [
    "def trace_transform(df, speed, distance_delta):\n",
    "    new_df = pd.DataFrame(columns=['coordinates', 'length_km', 'timestamps_list'])\n",
    "    \n",
    "    for index, row in df.iterrows():\n",
    "        coordinates = row['coordinates']\n",
    "        length_km = row['length_km']\n",
    "\n",
    "        # create points by given distance_delta\n",
    "        line = LineString(coordinates)\n",
    "        distances = np.arange(0, line.length, distance_delta)\n",
    "        points = MultiPoint([line.interpolate(distance) for distance in distances])\n",
    "        lat_lon_values = [[p.x, p.y] for p in points.geoms]\n",
    "\n",
    "        # partition_length in km\n",
    "        total_points = len(lat_lon_values)\n",
    "        partition_length = (length_km / total_points)\n",
    "\n",
    "        # time distance in seconds\n",
    "        time_delta = (partition_length / speed) * 3600\n",
    "\n",
    "        row_timestamps = []\n",
    "\n",
    "        for i in range(total_points):\n",
    "            if i == 0:\n",
    "                # set initial timestamp to current time\n",
    "                row_timestamps.append(time.time())\n",
    "            else:\n",
    "                # calculate the time delta from the previous point\n",
    "                time_delta = (partition_length / speed) * 3600\n",
    "                # add the time delta to the previous timestamp\n",
    "                prev_timestamp = row_timestamps[-1]\n",
    "                next_timestamp = prev_timestamp + time_delta\n",
    "                # append the new timestamp to the list\n",
    "                row_timestamps.append(next_timestamp)\n",
    "\n",
    "        new_df = new_df.append({'coordinates': lat_lon_values, 'length_km': length_km, 'timestamps_list': row_timestamps},\n",
    "                               ignore_index=True)\n",
    "\n",
    "    return new_df"
   ]
  },
  {
   "cell_type": "code",
   "execution_count": 66,
   "metadata": {},
   "outputs": [
    {
     "name": "stderr",
     "output_type": "stream",
     "text": [
      "C:\\Users\\LukasKoch\\AppData\\Local\\Temp\\ipykernel_23092\\3419988068.py:36: FutureWarning: The frame.append method is deprecated and will be removed from pandas in a future version. Use pandas.concat instead.\n",
      "  new_df = new_df.append({'coordinates': lat_lon_values, 'length_km': length_km, 'timestamps_list': row_timestamps},\n",
      "C:\\Users\\LukasKoch\\AppData\\Local\\Temp\\ipykernel_23092\\3419988068.py:36: FutureWarning: The frame.append method is deprecated and will be removed from pandas in a future version. Use pandas.concat instead.\n",
      "  new_df = new_df.append({'coordinates': lat_lon_values, 'length_km': length_km, 'timestamps_list': row_timestamps},\n",
      "C:\\Users\\LukasKoch\\AppData\\Local\\Temp\\ipykernel_23092\\3419988068.py:36: FutureWarning: The frame.append method is deprecated and will be removed from pandas in a future version. Use pandas.concat instead.\n",
      "  new_df = new_df.append({'coordinates': lat_lon_values, 'length_km': length_km, 'timestamps_list': row_timestamps},\n",
      "C:\\Users\\LukasKoch\\AppData\\Local\\Temp\\ipykernel_23092\\3419988068.py:36: FutureWarning: The frame.append method is deprecated and will be removed from pandas in a future version. Use pandas.concat instead.\n",
      "  new_df = new_df.append({'coordinates': lat_lon_values, 'length_km': length_km, 'timestamps_list': row_timestamps},\n",
      "C:\\Users\\LukasKoch\\AppData\\Local\\Temp\\ipykernel_23092\\3419988068.py:36: FutureWarning: The frame.append method is deprecated and will be removed from pandas in a future version. Use pandas.concat instead.\n",
      "  new_df = new_df.append({'coordinates': lat_lon_values, 'length_km': length_km, 'timestamps_list': row_timestamps},\n",
      "C:\\Users\\LukasKoch\\AppData\\Local\\Temp\\ipykernel_23092\\3419988068.py:36: FutureWarning: The frame.append method is deprecated and will be removed from pandas in a future version. Use pandas.concat instead.\n",
      "  new_df = new_df.append({'coordinates': lat_lon_values, 'length_km': length_km, 'timestamps_list': row_timestamps},\n",
      "C:\\Users\\LukasKoch\\AppData\\Local\\Temp\\ipykernel_23092\\3419988068.py:36: FutureWarning: The frame.append method is deprecated and will be removed from pandas in a future version. Use pandas.concat instead.\n",
      "  new_df = new_df.append({'coordinates': lat_lon_values, 'length_km': length_km, 'timestamps_list': row_timestamps},\n",
      "C:\\Users\\LukasKoch\\AppData\\Local\\Temp\\ipykernel_23092\\3419988068.py:36: FutureWarning: The frame.append method is deprecated and will be removed from pandas in a future version. Use pandas.concat instead.\n",
      "  new_df = new_df.append({'coordinates': lat_lon_values, 'length_km': length_km, 'timestamps_list': row_timestamps},\n",
      "C:\\Users\\LukasKoch\\AppData\\Local\\Temp\\ipykernel_23092\\3419988068.py:36: FutureWarning: The frame.append method is deprecated and will be removed from pandas in a future version. Use pandas.concat instead.\n",
      "  new_df = new_df.append({'coordinates': lat_lon_values, 'length_km': length_km, 'timestamps_list': row_timestamps},\n",
      "C:\\Users\\LukasKoch\\AppData\\Local\\Temp\\ipykernel_23092\\3419988068.py:36: FutureWarning: The frame.append method is deprecated and will be removed from pandas in a future version. Use pandas.concat instead.\n",
      "  new_df = new_df.append({'coordinates': lat_lon_values, 'length_km': length_km, 'timestamps_list': row_timestamps},\n",
      "C:\\Users\\LukasKoch\\AppData\\Local\\Temp\\ipykernel_23092\\3419988068.py:36: FutureWarning: The frame.append method is deprecated and will be removed from pandas in a future version. Use pandas.concat instead.\n",
      "  new_df = new_df.append({'coordinates': lat_lon_values, 'length_km': length_km, 'timestamps_list': row_timestamps},\n",
      "C:\\Users\\LukasKoch\\AppData\\Local\\Temp\\ipykernel_23092\\3419988068.py:36: FutureWarning: The frame.append method is deprecated and will be removed from pandas in a future version. Use pandas.concat instead.\n",
      "  new_df = new_df.append({'coordinates': lat_lon_values, 'length_km': length_km, 'timestamps_list': row_timestamps},\n",
      "C:\\Users\\LukasKoch\\AppData\\Local\\Temp\\ipykernel_23092\\3419988068.py:36: FutureWarning: The frame.append method is deprecated and will be removed from pandas in a future version. Use pandas.concat instead.\n",
      "  new_df = new_df.append({'coordinates': lat_lon_values, 'length_km': length_km, 'timestamps_list': row_timestamps},\n",
      "C:\\Users\\LukasKoch\\AppData\\Local\\Temp\\ipykernel_23092\\3419988068.py:36: FutureWarning: The frame.append method is deprecated and will be removed from pandas in a future version. Use pandas.concat instead.\n",
      "  new_df = new_df.append({'coordinates': lat_lon_values, 'length_km': length_km, 'timestamps_list': row_timestamps},\n",
      "C:\\Users\\LukasKoch\\AppData\\Local\\Temp\\ipykernel_23092\\3419988068.py:36: FutureWarning: The frame.append method is deprecated and will be removed from pandas in a future version. Use pandas.concat instead.\n",
      "  new_df = new_df.append({'coordinates': lat_lon_values, 'length_km': length_km, 'timestamps_list': row_timestamps},\n",
      "C:\\Users\\LukasKoch\\AppData\\Local\\Temp\\ipykernel_23092\\3419988068.py:36: FutureWarning: The frame.append method is deprecated and will be removed from pandas in a future version. Use pandas.concat instead.\n",
      "  new_df = new_df.append({'coordinates': lat_lon_values, 'length_km': length_km, 'timestamps_list': row_timestamps},\n",
      "C:\\Users\\LukasKoch\\AppData\\Local\\Temp\\ipykernel_23092\\3419988068.py:36: FutureWarning: The frame.append method is deprecated and will be removed from pandas in a future version. Use pandas.concat instead.\n",
      "  new_df = new_df.append({'coordinates': lat_lon_values, 'length_km': length_km, 'timestamps_list': row_timestamps},\n",
      "C:\\Users\\LukasKoch\\AppData\\Local\\Temp\\ipykernel_23092\\3419988068.py:36: FutureWarning: The frame.append method is deprecated and will be removed from pandas in a future version. Use pandas.concat instead.\n",
      "  new_df = new_df.append({'coordinates': lat_lon_values, 'length_km': length_km, 'timestamps_list': row_timestamps},\n",
      "C:\\Users\\LukasKoch\\AppData\\Local\\Temp\\ipykernel_23092\\3419988068.py:36: FutureWarning: The frame.append method is deprecated and will be removed from pandas in a future version. Use pandas.concat instead.\n",
      "  new_df = new_df.append({'coordinates': lat_lon_values, 'length_km': length_km, 'timestamps_list': row_timestamps},\n",
      "C:\\Users\\LukasKoch\\AppData\\Local\\Temp\\ipykernel_23092\\3419988068.py:36: FutureWarning: The frame.append method is deprecated and will be removed from pandas in a future version. Use pandas.concat instead.\n",
      "  new_df = new_df.append({'coordinates': lat_lon_values, 'length_km': length_km, 'timestamps_list': row_timestamps},\n",
      "C:\\Users\\LukasKoch\\AppData\\Local\\Temp\\ipykernel_23092\\3419988068.py:36: FutureWarning: The frame.append method is deprecated and will be removed from pandas in a future version. Use pandas.concat instead.\n",
      "  new_df = new_df.append({'coordinates': lat_lon_values, 'length_km': length_km, 'timestamps_list': row_timestamps},\n",
      "C:\\Users\\LukasKoch\\AppData\\Local\\Temp\\ipykernel_23092\\3419988068.py:36: FutureWarning: The frame.append method is deprecated and will be removed from pandas in a future version. Use pandas.concat instead.\n",
      "  new_df = new_df.append({'coordinates': lat_lon_values, 'length_km': length_km, 'timestamps_list': row_timestamps},\n",
      "C:\\Users\\LukasKoch\\AppData\\Local\\Temp\\ipykernel_23092\\3419988068.py:36: FutureWarning: The frame.append method is deprecated and will be removed from pandas in a future version. Use pandas.concat instead.\n",
      "  new_df = new_df.append({'coordinates': lat_lon_values, 'length_km': length_km, 'timestamps_list': row_timestamps},\n",
      "C:\\Users\\LukasKoch\\AppData\\Local\\Temp\\ipykernel_23092\\3419988068.py:36: FutureWarning: The frame.append method is deprecated and will be removed from pandas in a future version. Use pandas.concat instead.\n",
      "  new_df = new_df.append({'coordinates': lat_lon_values, 'length_km': length_km, 'timestamps_list': row_timestamps},\n",
      "C:\\Users\\LukasKoch\\AppData\\Local\\Temp\\ipykernel_23092\\3419988068.py:36: FutureWarning: The frame.append method is deprecated and will be removed from pandas in a future version. Use pandas.concat instead.\n",
      "  new_df = new_df.append({'coordinates': lat_lon_values, 'length_km': length_km, 'timestamps_list': row_timestamps},\n",
      "C:\\Users\\LukasKoch\\AppData\\Local\\Temp\\ipykernel_23092\\3419988068.py:36: FutureWarning: The frame.append method is deprecated and will be removed from pandas in a future version. Use pandas.concat instead.\n",
      "  new_df = new_df.append({'coordinates': lat_lon_values, 'length_km': length_km, 'timestamps_list': row_timestamps},\n",
      "C:\\Users\\LukasKoch\\AppData\\Local\\Temp\\ipykernel_23092\\3419988068.py:36: FutureWarning: The frame.append method is deprecated and will be removed from pandas in a future version. Use pandas.concat instead.\n",
      "  new_df = new_df.append({'coordinates': lat_lon_values, 'length_km': length_km, 'timestamps_list': row_timestamps},\n",
      "C:\\Users\\LukasKoch\\AppData\\Local\\Temp\\ipykernel_23092\\3419988068.py:36: FutureWarning: The frame.append method is deprecated and will be removed from pandas in a future version. Use pandas.concat instead.\n",
      "  new_df = new_df.append({'coordinates': lat_lon_values, 'length_km': length_km, 'timestamps_list': row_timestamps},\n",
      "C:\\Users\\LukasKoch\\AppData\\Local\\Temp\\ipykernel_23092\\3419988068.py:36: FutureWarning: The frame.append method is deprecated and will be removed from pandas in a future version. Use pandas.concat instead.\n",
      "  new_df = new_df.append({'coordinates': lat_lon_values, 'length_km': length_km, 'timestamps_list': row_timestamps},\n",
      "C:\\Users\\LukasKoch\\AppData\\Local\\Temp\\ipykernel_23092\\3419988068.py:36: FutureWarning: The frame.append method is deprecated and will be removed from pandas in a future version. Use pandas.concat instead.\n",
      "  new_df = new_df.append({'coordinates': lat_lon_values, 'length_km': length_km, 'timestamps_list': row_timestamps},\n",
      "C:\\Users\\LukasKoch\\AppData\\Local\\Temp\\ipykernel_23092\\3419988068.py:36: FutureWarning: The frame.append method is deprecated and will be removed from pandas in a future version. Use pandas.concat instead.\n",
      "  new_df = new_df.append({'coordinates': lat_lon_values, 'length_km': length_km, 'timestamps_list': row_timestamps},\n",
      "C:\\Users\\LukasKoch\\AppData\\Local\\Temp\\ipykernel_23092\\3419988068.py:36: FutureWarning: The frame.append method is deprecated and will be removed from pandas in a future version. Use pandas.concat instead.\n",
      "  new_df = new_df.append({'coordinates': lat_lon_values, 'length_km': length_km, 'timestamps_list': row_timestamps},\n",
      "C:\\Users\\LukasKoch\\AppData\\Local\\Temp\\ipykernel_23092\\3419988068.py:36: FutureWarning: The frame.append method is deprecated and will be removed from pandas in a future version. Use pandas.concat instead.\n",
      "  new_df = new_df.append({'coordinates': lat_lon_values, 'length_km': length_km, 'timestamps_list': row_timestamps},\n",
      "C:\\Users\\LukasKoch\\AppData\\Local\\Temp\\ipykernel_23092\\3419988068.py:36: FutureWarning: The frame.append method is deprecated and will be removed from pandas in a future version. Use pandas.concat instead.\n",
      "  new_df = new_df.append({'coordinates': lat_lon_values, 'length_km': length_km, 'timestamps_list': row_timestamps},\n",
      "C:\\Users\\LukasKoch\\AppData\\Local\\Temp\\ipykernel_23092\\3419988068.py:36: FutureWarning: The frame.append method is deprecated and will be removed from pandas in a future version. Use pandas.concat instead.\n",
      "  new_df = new_df.append({'coordinates': lat_lon_values, 'length_km': length_km, 'timestamps_list': row_timestamps},\n",
      "C:\\Users\\LukasKoch\\AppData\\Local\\Temp\\ipykernel_23092\\3419988068.py:36: FutureWarning: The frame.append method is deprecated and will be removed from pandas in a future version. Use pandas.concat instead.\n",
      "  new_df = new_df.append({'coordinates': lat_lon_values, 'length_km': length_km, 'timestamps_list': row_timestamps},\n",
      "C:\\Users\\LukasKoch\\AppData\\Local\\Temp\\ipykernel_23092\\3419988068.py:36: FutureWarning: The frame.append method is deprecated and will be removed from pandas in a future version. Use pandas.concat instead.\n",
      "  new_df = new_df.append({'coordinates': lat_lon_values, 'length_km': length_km, 'timestamps_list': row_timestamps},\n",
      "C:\\Users\\LukasKoch\\AppData\\Local\\Temp\\ipykernel_23092\\3419988068.py:36: FutureWarning: The frame.append method is deprecated and will be removed from pandas in a future version. Use pandas.concat instead.\n",
      "  new_df = new_df.append({'coordinates': lat_lon_values, 'length_km': length_km, 'timestamps_list': row_timestamps},\n",
      "C:\\Users\\LukasKoch\\AppData\\Local\\Temp\\ipykernel_23092\\3419988068.py:36: FutureWarning: The frame.append method is deprecated and will be removed from pandas in a future version. Use pandas.concat instead.\n",
      "  new_df = new_df.append({'coordinates': lat_lon_values, 'length_km': length_km, 'timestamps_list': row_timestamps},\n",
      "C:\\Users\\LukasKoch\\AppData\\Local\\Temp\\ipykernel_23092\\3419988068.py:36: FutureWarning: The frame.append method is deprecated and will be removed from pandas in a future version. Use pandas.concat instead.\n",
      "  new_df = new_df.append({'coordinates': lat_lon_values, 'length_km': length_km, 'timestamps_list': row_timestamps},\n",
      "C:\\Users\\LukasKoch\\AppData\\Local\\Temp\\ipykernel_23092\\3419988068.py:36: FutureWarning: The frame.append method is deprecated and will be removed from pandas in a future version. Use pandas.concat instead.\n",
      "  new_df = new_df.append({'coordinates': lat_lon_values, 'length_km': length_km, 'timestamps_list': row_timestamps},\n",
      "C:\\Users\\LukasKoch\\AppData\\Local\\Temp\\ipykernel_23092\\3419988068.py:36: FutureWarning: The frame.append method is deprecated and will be removed from pandas in a future version. Use pandas.concat instead.\n",
      "  new_df = new_df.append({'coordinates': lat_lon_values, 'length_km': length_km, 'timestamps_list': row_timestamps},\n",
      "C:\\Users\\LukasKoch\\AppData\\Local\\Temp\\ipykernel_23092\\3419988068.py:36: FutureWarning: The frame.append method is deprecated and will be removed from pandas in a future version. Use pandas.concat instead.\n",
      "  new_df = new_df.append({'coordinates': lat_lon_values, 'length_km': length_km, 'timestamps_list': row_timestamps},\n",
      "C:\\Users\\LukasKoch\\AppData\\Local\\Temp\\ipykernel_23092\\3419988068.py:36: FutureWarning: The frame.append method is deprecated and will be removed from pandas in a future version. Use pandas.concat instead.\n",
      "  new_df = new_df.append({'coordinates': lat_lon_values, 'length_km': length_km, 'timestamps_list': row_timestamps},\n",
      "C:\\Users\\LukasKoch\\AppData\\Local\\Temp\\ipykernel_23092\\3419988068.py:36: FutureWarning: The frame.append method is deprecated and will be removed from pandas in a future version. Use pandas.concat instead.\n",
      "  new_df = new_df.append({'coordinates': lat_lon_values, 'length_km': length_km, 'timestamps_list': row_timestamps},\n",
      "C:\\Users\\LukasKoch\\AppData\\Local\\Temp\\ipykernel_23092\\3419988068.py:36: FutureWarning: The frame.append method is deprecated and will be removed from pandas in a future version. Use pandas.concat instead.\n",
      "  new_df = new_df.append({'coordinates': lat_lon_values, 'length_km': length_km, 'timestamps_list': row_timestamps},\n",
      "C:\\Users\\LukasKoch\\AppData\\Local\\Temp\\ipykernel_23092\\3419988068.py:36: FutureWarning: The frame.append method is deprecated and will be removed from pandas in a future version. Use pandas.concat instead.\n",
      "  new_df = new_df.append({'coordinates': lat_lon_values, 'length_km': length_km, 'timestamps_list': row_timestamps},\n",
      "C:\\Users\\LukasKoch\\AppData\\Local\\Temp\\ipykernel_23092\\3419988068.py:36: FutureWarning: The frame.append method is deprecated and will be removed from pandas in a future version. Use pandas.concat instead.\n",
      "  new_df = new_df.append({'coordinates': lat_lon_values, 'length_km': length_km, 'timestamps_list': row_timestamps},\n",
      "C:\\Users\\LukasKoch\\AppData\\Local\\Temp\\ipykernel_23092\\3419988068.py:36: FutureWarning: The frame.append method is deprecated and will be removed from pandas in a future version. Use pandas.concat instead.\n",
      "  new_df = new_df.append({'coordinates': lat_lon_values, 'length_km': length_km, 'timestamps_list': row_timestamps},\n",
      "C:\\Users\\LukasKoch\\AppData\\Local\\Temp\\ipykernel_23092\\3419988068.py:36: FutureWarning: The frame.append method is deprecated and will be removed from pandas in a future version. Use pandas.concat instead.\n",
      "  new_df = new_df.append({'coordinates': lat_lon_values, 'length_km': length_km, 'timestamps_list': row_timestamps},\n"
     ]
    }
   ],
   "source": [
    "df = trace_transform(df=df, speed=15, distance_delta=0.0001)"
   ]
  },
  {
   "cell_type": "code",
   "execution_count": 71,
   "metadata": {},
   "outputs": [
    {
     "data": {
      "text/html": [
       "<div>\n",
       "<style scoped>\n",
       "    .dataframe tbody tr th:only-of-type {\n",
       "        vertical-align: middle;\n",
       "    }\n",
       "\n",
       "    .dataframe tbody tr th {\n",
       "        vertical-align: top;\n",
       "    }\n",
       "\n",
       "    .dataframe thead th {\n",
       "        text-align: right;\n",
       "    }\n",
       "</style>\n",
       "<table border=\"1\" class=\"dataframe\">\n",
       "  <thead>\n",
       "    <tr style=\"text-align: right;\">\n",
       "      <th></th>\n",
       "      <th>coordinates</th>\n",
       "      <th>length_km</th>\n",
       "      <th>timestamps_list</th>\n",
       "    </tr>\n",
       "  </thead>\n",
       "  <tbody>\n",
       "    <tr>\n",
       "      <th>0</th>\n",
       "      <td>[[52.479385, 13.4398505], [52.479366097543874,...</td>\n",
       "      <td>3.287428</td>\n",
       "      <td>[1683119998.5352836, 1683120000.5792804, 16831...</td>\n",
       "    </tr>\n",
       "    <tr>\n",
       "      <th>1</th>\n",
       "      <td>[[52.478999, 13.3623879], [52.47896053913386, ...</td>\n",
       "      <td>2.106747</td>\n",
       "      <td>[1683119998.5572348, 1683120001.0236704, 16831...</td>\n",
       "    </tr>\n",
       "    <tr>\n",
       "      <th>2</th>\n",
       "      <td>[[52.4859791, 13.3561118], [52.486044226491295...</td>\n",
       "      <td>0.687891</td>\n",
       "      <td>[1683119998.5632474, 1683120000.5765877, 16831...</td>\n",
       "    </tr>\n",
       "    <tr>\n",
       "      <th>3</th>\n",
       "      <td>[[52.4844619, 13.3858234], [52.48444819873453,...</td>\n",
       "      <td>5.939523</td>\n",
       "      <td>[1683119998.5924797, 1683120000.688782, 168312...</td>\n",
       "    </tr>\n",
       "    <tr>\n",
       "      <th>4</th>\n",
       "      <td>[[52.4837392, 13.4358193], [52.48369442944266,...</td>\n",
       "      <td>3.354199</td>\n",
       "      <td>[1683119998.6011925, 1683120000.5937862, 16831...</td>\n",
       "    </tr>\n",
       "  </tbody>\n",
       "</table>\n",
       "</div>"
      ],
      "text/plain": [
       "                                         coordinates  length_km  \\\n",
       "0  [[52.479385, 13.4398505], [52.479366097543874,...   3.287428   \n",
       "1  [[52.478999, 13.3623879], [52.47896053913386, ...   2.106747   \n",
       "2  [[52.4859791, 13.3561118], [52.486044226491295...   0.687891   \n",
       "3  [[52.4844619, 13.3858234], [52.48444819873453,...   5.939523   \n",
       "4  [[52.4837392, 13.4358193], [52.48369442944266,...   3.354199   \n",
       "\n",
       "                                     timestamps_list  \n",
       "0  [1683119998.5352836, 1683120000.5792804, 16831...  \n",
       "1  [1683119998.5572348, 1683120001.0236704, 16831...  \n",
       "2  [1683119998.5632474, 1683120000.5765877, 16831...  \n",
       "3  [1683119998.5924797, 1683120000.688782, 168312...  \n",
       "4  [1683119998.6011925, 1683120000.5937862, 16831...  "
      ]
     },
     "execution_count": 71,
     "metadata": {},
     "output_type": "execute_result"
    }
   ],
   "source": [
    "df.head(5)"
   ]
  },
  {
   "cell_type": "code",
   "execution_count": 68,
   "metadata": {},
   "outputs": [],
   "source": [
    "geo_list = pd.DataFrame(np.zeros((len(df)),dtype=object),columns=['geo_json'])\n",
    "                            \n",
    "for i in range(0,len(df)):                       \n",
    "    z_list = [0] * len(df['coordinates'][i])\n",
    "    list0 = df['coordinates'][i]\n",
    "    list1 = np.insert(list0,2,z_list,axis=1)\n",
    "    list2 = np.insert(list1,3,df['timestamps_list'][i],axis=1)\n",
    "        \n",
    "    geo_list.iloc[i] = [geoLS(list2.tolist())]"
   ]
  },
  {
   "cell_type": "code",
   "execution_count": 73,
   "metadata": {},
   "outputs": [],
   "source": [
    "geo_list['geo_json'] = geo_list['geo_json'].apply(lambda x: {'type': x['type'], 'coordinates': [switch_lat_lon(coord) for coord in x['coordinates']]})"
   ]
  },
  {
   "cell_type": "code",
   "execution_count": 74,
   "metadata": {},
   "outputs": [
    {
     "name": "stdout",
     "output_type": "stream",
     "text": [
      "User Guide: https://docs.kepler.gl/docs/keplergl-jupyter\n"
     ]
    },
    {
     "data": {
      "application/vnd.jupyter.widget-view+json": {
       "model_id": "e9c873a9d9244aa19f3c1b64072b2687",
       "version_major": 2,
       "version_minor": 0
      },
      "text/plain": [
       "KeplerGl(data={'Scooters':                                              geo_json\n",
       "0   {'type': 'LineString', 'c…"
      ]
     },
     "metadata": {},
     "output_type": "display_data"
    }
   ],
   "source": [
    "# a second plot\n",
    "map_1 = kgl.KeplerGl(height=800,data={'Scooters': geo_list})\n",
    "map_1"
   ]
  },
  {
   "cell_type": "code",
   "execution_count": null,
   "metadata": {},
   "outputs": [],
   "source": []
  }
 ],
 "metadata": {
  "kernelspec": {
   "display_name": "dksr_kgl",
   "language": "python",
   "name": "python3"
  },
  "language_info": {
   "codemirror_mode": {
    "name": "ipython",
    "version": 3
   },
   "file_extension": ".py",
   "mimetype": "text/x-python",
   "name": "python",
   "nbconvert_exporter": "python",
   "pygments_lexer": "ipython3",
   "version": "3.10.9"
  },
  "orig_nbformat": 4
 },
 "nbformat": 4,
 "nbformat_minor": 2
}
