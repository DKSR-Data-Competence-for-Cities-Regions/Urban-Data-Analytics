{
 "cells": [
  {
   "cell_type": "code",
   "execution_count": 1,
   "metadata": {},
   "outputs": [],
   "source": [
    "from dksr_lib.dksr import *\n",
    "from dummy_data_generator import *"
   ]
  },
  {
   "cell_type": "code",
   "execution_count": 2,
   "metadata": {},
   "outputs": [],
   "source": [
    "#help(extract_sample_network)"
   ]
  },
  {
   "cell_type": "code",
   "execution_count": 3,
   "metadata": {},
   "outputs": [],
   "source": [
    "#help(extract_sample_network)"
   ]
  },
  {
   "cell_type": "code",
   "execution_count": 4,
   "metadata": {},
   "outputs": [],
   "source": [
    "# a good adress to find your bbox of choice is the bbox finder, make sure your bbox is not to small to achieve a nicer output\n",
    "north, east, south, west = 52.460298,13.328991,52.515803,13.455849"
   ]
  },
  {
   "cell_type": "code",
   "execution_count": 5,
   "metadata": {},
   "outputs": [],
   "source": [
    "df = extract_sample_network(north, east, south, west, sample_size=50, seed=42)"
   ]
  },
  {
   "cell_type": "code",
   "execution_count": 6,
   "metadata": {},
   "outputs": [
    {
     "data": {
      "text/html": [
       "<div>\n",
       "<style scoped>\n",
       "    .dataframe tbody tr th:only-of-type {\n",
       "        vertical-align: middle;\n",
       "    }\n",
       "\n",
       "    .dataframe tbody tr th {\n",
       "        vertical-align: top;\n",
       "    }\n",
       "\n",
       "    .dataframe thead th {\n",
       "        text-align: right;\n",
       "    }\n",
       "</style>\n",
       "<table border=\"1\" class=\"dataframe\">\n",
       "  <thead>\n",
       "    <tr style=\"text-align: right;\">\n",
       "      <th></th>\n",
       "      <th>coordinates</th>\n",
       "      <th>length_km</th>\n",
       "    </tr>\n",
       "  </thead>\n",
       "  <tbody>\n",
       "    <tr>\n",
       "      <th>0</th>\n",
       "      <td>[[13.4398505, 52.479385], [13.4392749, 52.4792...</td>\n",
       "      <td>4.193768</td>\n",
       "    </tr>\n",
       "    <tr>\n",
       "      <th>1</th>\n",
       "      <td>[[13.3623879, 52.478999], [13.3633628, 52.4785...</td>\n",
       "      <td>2.644257</td>\n",
       "    </tr>\n",
       "    <tr>\n",
       "      <th>2</th>\n",
       "      <td>[[13.3561118, 52.4859791], [13.3571409, 52.486...</td>\n",
       "      <td>1.024246</td>\n",
       "    </tr>\n",
       "    <tr>\n",
       "      <th>3</th>\n",
       "      <td>[[13.3858234, 52.4844619], [13.3847158, 52.484...</td>\n",
       "      <td>7.716281</td>\n",
       "    </tr>\n",
       "    <tr>\n",
       "      <th>4</th>\n",
       "      <td>[[13.4358193, 52.4837392], [13.4374185, 52.482...</td>\n",
       "      <td>4.485931</td>\n",
       "    </tr>\n",
       "    <tr>\n",
       "      <th>5</th>\n",
       "      <td>[[13.3951472, 52.4989028], [13.3955177, 52.498...</td>\n",
       "      <td>5.245190</td>\n",
       "    </tr>\n",
       "    <tr>\n",
       "      <th>6</th>\n",
       "      <td>[[13.3369571, 52.4858086], [13.3352152, 52.485...</td>\n",
       "      <td>7.343469</td>\n",
       "    </tr>\n",
       "    <tr>\n",
       "      <th>7</th>\n",
       "      <td>[[13.4276733, 52.4681133], [13.4278705, 52.467...</td>\n",
       "      <td>10.285902</td>\n",
       "    </tr>\n",
       "    <tr>\n",
       "      <th>8</th>\n",
       "      <td>[[13.3899696, 52.465742], [13.3893836, 52.4658...</td>\n",
       "      <td>9.697006</td>\n",
       "    </tr>\n",
       "    <tr>\n",
       "      <th>9</th>\n",
       "      <td>[[13.4328748, 52.4947957], [13.4286574, 52.493...</td>\n",
       "      <td>14.766882</td>\n",
       "    </tr>\n",
       "  </tbody>\n",
       "</table>\n",
       "</div>"
      ],
      "text/plain": [
       "                                         coordinates  length_km\n",
       "0  [[13.4398505, 52.479385], [13.4392749, 52.4792...   4.193768\n",
       "1  [[13.3623879, 52.478999], [13.3633628, 52.4785...   2.644257\n",
       "2  [[13.3561118, 52.4859791], [13.3571409, 52.486...   1.024246\n",
       "3  [[13.3858234, 52.4844619], [13.3847158, 52.484...   7.716281\n",
       "4  [[13.4358193, 52.4837392], [13.4374185, 52.482...   4.485931\n",
       "5  [[13.3951472, 52.4989028], [13.3955177, 52.498...   5.245190\n",
       "6  [[13.3369571, 52.4858086], [13.3352152, 52.485...   7.343469\n",
       "7  [[13.4276733, 52.4681133], [13.4278705, 52.467...  10.285902\n",
       "8  [[13.3899696, 52.465742], [13.3893836, 52.4658...   9.697006\n",
       "9  [[13.4328748, 52.4947957], [13.4286574, 52.493...  14.766882"
      ]
     },
     "execution_count": 6,
     "metadata": {},
     "output_type": "execute_result"
    }
   ],
   "source": [
    "df.head(10)"
   ]
  },
  {
   "cell_type": "code",
   "execution_count": 7,
   "metadata": {},
   "outputs": [
    {
     "name": "stderr",
     "output_type": "stream",
     "text": [
      "c:\\Users\\LukasKoch\\DKSR Daten-Kompetenzzentrum für Städte & Regionen\\DKSR Tech Page - Dokumente\\GitHub\\DKSR-GitHub\\Urban-Data-Analytics\\dummy_data_generator.py:139: FutureWarning: The frame.append method is deprecated and will be removed from pandas in a future version. Use pandas.concat instead.\n",
      "  new_df = new_df.append({'coordinates': lat_lon_values, 'length_km': length_km, 'timestamps_list': row_timestamps}, ignore_index=True)\n",
      "c:\\Users\\LukasKoch\\DKSR Daten-Kompetenzzentrum für Städte & Regionen\\DKSR Tech Page - Dokumente\\GitHub\\DKSR-GitHub\\Urban-Data-Analytics\\dummy_data_generator.py:139: FutureWarning: The frame.append method is deprecated and will be removed from pandas in a future version. Use pandas.concat instead.\n",
      "  new_df = new_df.append({'coordinates': lat_lon_values, 'length_km': length_km, 'timestamps_list': row_timestamps}, ignore_index=True)\n",
      "c:\\Users\\LukasKoch\\DKSR Daten-Kompetenzzentrum für Städte & Regionen\\DKSR Tech Page - Dokumente\\GitHub\\DKSR-GitHub\\Urban-Data-Analytics\\dummy_data_generator.py:139: FutureWarning: The frame.append method is deprecated and will be removed from pandas in a future version. Use pandas.concat instead.\n",
      "  new_df = new_df.append({'coordinates': lat_lon_values, 'length_km': length_km, 'timestamps_list': row_timestamps}, ignore_index=True)\n",
      "c:\\Users\\LukasKoch\\DKSR Daten-Kompetenzzentrum für Städte & Regionen\\DKSR Tech Page - Dokumente\\GitHub\\DKSR-GitHub\\Urban-Data-Analytics\\dummy_data_generator.py:139: FutureWarning: The frame.append method is deprecated and will be removed from pandas in a future version. Use pandas.concat instead.\n",
      "  new_df = new_df.append({'coordinates': lat_lon_values, 'length_km': length_km, 'timestamps_list': row_timestamps}, ignore_index=True)\n",
      "c:\\Users\\LukasKoch\\DKSR Daten-Kompetenzzentrum für Städte & Regionen\\DKSR Tech Page - Dokumente\\GitHub\\DKSR-GitHub\\Urban-Data-Analytics\\dummy_data_generator.py:139: FutureWarning: The frame.append method is deprecated and will be removed from pandas in a future version. Use pandas.concat instead.\n",
      "  new_df = new_df.append({'coordinates': lat_lon_values, 'length_km': length_km, 'timestamps_list': row_timestamps}, ignore_index=True)\n",
      "c:\\Users\\LukasKoch\\DKSR Daten-Kompetenzzentrum für Städte & Regionen\\DKSR Tech Page - Dokumente\\GitHub\\DKSR-GitHub\\Urban-Data-Analytics\\dummy_data_generator.py:139: FutureWarning: The frame.append method is deprecated and will be removed from pandas in a future version. Use pandas.concat instead.\n",
      "  new_df = new_df.append({'coordinates': lat_lon_values, 'length_km': length_km, 'timestamps_list': row_timestamps}, ignore_index=True)\n",
      "c:\\Users\\LukasKoch\\DKSR Daten-Kompetenzzentrum für Städte & Regionen\\DKSR Tech Page - Dokumente\\GitHub\\DKSR-GitHub\\Urban-Data-Analytics\\dummy_data_generator.py:139: FutureWarning: The frame.append method is deprecated and will be removed from pandas in a future version. Use pandas.concat instead.\n",
      "  new_df = new_df.append({'coordinates': lat_lon_values, 'length_km': length_km, 'timestamps_list': row_timestamps}, ignore_index=True)\n",
      "c:\\Users\\LukasKoch\\DKSR Daten-Kompetenzzentrum für Städte & Regionen\\DKSR Tech Page - Dokumente\\GitHub\\DKSR-GitHub\\Urban-Data-Analytics\\dummy_data_generator.py:139: FutureWarning: The frame.append method is deprecated and will be removed from pandas in a future version. Use pandas.concat instead.\n",
      "  new_df = new_df.append({'coordinates': lat_lon_values, 'length_km': length_km, 'timestamps_list': row_timestamps}, ignore_index=True)\n",
      "c:\\Users\\LukasKoch\\DKSR Daten-Kompetenzzentrum für Städte & Regionen\\DKSR Tech Page - Dokumente\\GitHub\\DKSR-GitHub\\Urban-Data-Analytics\\dummy_data_generator.py:139: FutureWarning: The frame.append method is deprecated and will be removed from pandas in a future version. Use pandas.concat instead.\n",
      "  new_df = new_df.append({'coordinates': lat_lon_values, 'length_km': length_km, 'timestamps_list': row_timestamps}, ignore_index=True)\n",
      "c:\\Users\\LukasKoch\\DKSR Daten-Kompetenzzentrum für Städte & Regionen\\DKSR Tech Page - Dokumente\\GitHub\\DKSR-GitHub\\Urban-Data-Analytics\\dummy_data_generator.py:139: FutureWarning: The frame.append method is deprecated and will be removed from pandas in a future version. Use pandas.concat instead.\n",
      "  new_df = new_df.append({'coordinates': lat_lon_values, 'length_km': length_km, 'timestamps_list': row_timestamps}, ignore_index=True)\n",
      "c:\\Users\\LukasKoch\\DKSR Daten-Kompetenzzentrum für Städte & Regionen\\DKSR Tech Page - Dokumente\\GitHub\\DKSR-GitHub\\Urban-Data-Analytics\\dummy_data_generator.py:139: FutureWarning: The frame.append method is deprecated and will be removed from pandas in a future version. Use pandas.concat instead.\n",
      "  new_df = new_df.append({'coordinates': lat_lon_values, 'length_km': length_km, 'timestamps_list': row_timestamps}, ignore_index=True)\n",
      "c:\\Users\\LukasKoch\\DKSR Daten-Kompetenzzentrum für Städte & Regionen\\DKSR Tech Page - Dokumente\\GitHub\\DKSR-GitHub\\Urban-Data-Analytics\\dummy_data_generator.py:139: FutureWarning: The frame.append method is deprecated and will be removed from pandas in a future version. Use pandas.concat instead.\n",
      "  new_df = new_df.append({'coordinates': lat_lon_values, 'length_km': length_km, 'timestamps_list': row_timestamps}, ignore_index=True)\n",
      "c:\\Users\\LukasKoch\\DKSR Daten-Kompetenzzentrum für Städte & Regionen\\DKSR Tech Page - Dokumente\\GitHub\\DKSR-GitHub\\Urban-Data-Analytics\\dummy_data_generator.py:139: FutureWarning: The frame.append method is deprecated and will be removed from pandas in a future version. Use pandas.concat instead.\n",
      "  new_df = new_df.append({'coordinates': lat_lon_values, 'length_km': length_km, 'timestamps_list': row_timestamps}, ignore_index=True)\n",
      "c:\\Users\\LukasKoch\\DKSR Daten-Kompetenzzentrum für Städte & Regionen\\DKSR Tech Page - Dokumente\\GitHub\\DKSR-GitHub\\Urban-Data-Analytics\\dummy_data_generator.py:139: FutureWarning: The frame.append method is deprecated and will be removed from pandas in a future version. Use pandas.concat instead.\n",
      "  new_df = new_df.append({'coordinates': lat_lon_values, 'length_km': length_km, 'timestamps_list': row_timestamps}, ignore_index=True)\n",
      "c:\\Users\\LukasKoch\\DKSR Daten-Kompetenzzentrum für Städte & Regionen\\DKSR Tech Page - Dokumente\\GitHub\\DKSR-GitHub\\Urban-Data-Analytics\\dummy_data_generator.py:139: FutureWarning: The frame.append method is deprecated and will be removed from pandas in a future version. Use pandas.concat instead.\n",
      "  new_df = new_df.append({'coordinates': lat_lon_values, 'length_km': length_km, 'timestamps_list': row_timestamps}, ignore_index=True)\n",
      "c:\\Users\\LukasKoch\\DKSR Daten-Kompetenzzentrum für Städte & Regionen\\DKSR Tech Page - Dokumente\\GitHub\\DKSR-GitHub\\Urban-Data-Analytics\\dummy_data_generator.py:139: FutureWarning: The frame.append method is deprecated and will be removed from pandas in a future version. Use pandas.concat instead.\n",
      "  new_df = new_df.append({'coordinates': lat_lon_values, 'length_km': length_km, 'timestamps_list': row_timestamps}, ignore_index=True)\n",
      "c:\\Users\\LukasKoch\\DKSR Daten-Kompetenzzentrum für Städte & Regionen\\DKSR Tech Page - Dokumente\\GitHub\\DKSR-GitHub\\Urban-Data-Analytics\\dummy_data_generator.py:139: FutureWarning: The frame.append method is deprecated and will be removed from pandas in a future version. Use pandas.concat instead.\n",
      "  new_df = new_df.append({'coordinates': lat_lon_values, 'length_km': length_km, 'timestamps_list': row_timestamps}, ignore_index=True)\n",
      "c:\\Users\\LukasKoch\\DKSR Daten-Kompetenzzentrum für Städte & Regionen\\DKSR Tech Page - Dokumente\\GitHub\\DKSR-GitHub\\Urban-Data-Analytics\\dummy_data_generator.py:139: FutureWarning: The frame.append method is deprecated and will be removed from pandas in a future version. Use pandas.concat instead.\n",
      "  new_df = new_df.append({'coordinates': lat_lon_values, 'length_km': length_km, 'timestamps_list': row_timestamps}, ignore_index=True)\n",
      "c:\\Users\\LukasKoch\\DKSR Daten-Kompetenzzentrum für Städte & Regionen\\DKSR Tech Page - Dokumente\\GitHub\\DKSR-GitHub\\Urban-Data-Analytics\\dummy_data_generator.py:139: FutureWarning: The frame.append method is deprecated and will be removed from pandas in a future version. Use pandas.concat instead.\n",
      "  new_df = new_df.append({'coordinates': lat_lon_values, 'length_km': length_km, 'timestamps_list': row_timestamps}, ignore_index=True)\n",
      "c:\\Users\\LukasKoch\\DKSR Daten-Kompetenzzentrum für Städte & Regionen\\DKSR Tech Page - Dokumente\\GitHub\\DKSR-GitHub\\Urban-Data-Analytics\\dummy_data_generator.py:139: FutureWarning: The frame.append method is deprecated and will be removed from pandas in a future version. Use pandas.concat instead.\n",
      "  new_df = new_df.append({'coordinates': lat_lon_values, 'length_km': length_km, 'timestamps_list': row_timestamps}, ignore_index=True)\n",
      "c:\\Users\\LukasKoch\\DKSR Daten-Kompetenzzentrum für Städte & Regionen\\DKSR Tech Page - Dokumente\\GitHub\\DKSR-GitHub\\Urban-Data-Analytics\\dummy_data_generator.py:139: FutureWarning: The frame.append method is deprecated and will be removed from pandas in a future version. Use pandas.concat instead.\n",
      "  new_df = new_df.append({'coordinates': lat_lon_values, 'length_km': length_km, 'timestamps_list': row_timestamps}, ignore_index=True)\n",
      "c:\\Users\\LukasKoch\\DKSR Daten-Kompetenzzentrum für Städte & Regionen\\DKSR Tech Page - Dokumente\\GitHub\\DKSR-GitHub\\Urban-Data-Analytics\\dummy_data_generator.py:139: FutureWarning: The frame.append method is deprecated and will be removed from pandas in a future version. Use pandas.concat instead.\n",
      "  new_df = new_df.append({'coordinates': lat_lon_values, 'length_km': length_km, 'timestamps_list': row_timestamps}, ignore_index=True)\n",
      "c:\\Users\\LukasKoch\\DKSR Daten-Kompetenzzentrum für Städte & Regionen\\DKSR Tech Page - Dokumente\\GitHub\\DKSR-GitHub\\Urban-Data-Analytics\\dummy_data_generator.py:139: FutureWarning: The frame.append method is deprecated and will be removed from pandas in a future version. Use pandas.concat instead.\n",
      "  new_df = new_df.append({'coordinates': lat_lon_values, 'length_km': length_km, 'timestamps_list': row_timestamps}, ignore_index=True)\n",
      "c:\\Users\\LukasKoch\\DKSR Daten-Kompetenzzentrum für Städte & Regionen\\DKSR Tech Page - Dokumente\\GitHub\\DKSR-GitHub\\Urban-Data-Analytics\\dummy_data_generator.py:139: FutureWarning: The frame.append method is deprecated and will be removed from pandas in a future version. Use pandas.concat instead.\n",
      "  new_df = new_df.append({'coordinates': lat_lon_values, 'length_km': length_km, 'timestamps_list': row_timestamps}, ignore_index=True)\n",
      "c:\\Users\\LukasKoch\\DKSR Daten-Kompetenzzentrum für Städte & Regionen\\DKSR Tech Page - Dokumente\\GitHub\\DKSR-GitHub\\Urban-Data-Analytics\\dummy_data_generator.py:139: FutureWarning: The frame.append method is deprecated and will be removed from pandas in a future version. Use pandas.concat instead.\n",
      "  new_df = new_df.append({'coordinates': lat_lon_values, 'length_km': length_km, 'timestamps_list': row_timestamps}, ignore_index=True)\n",
      "c:\\Users\\LukasKoch\\DKSR Daten-Kompetenzzentrum für Städte & Regionen\\DKSR Tech Page - Dokumente\\GitHub\\DKSR-GitHub\\Urban-Data-Analytics\\dummy_data_generator.py:139: FutureWarning: The frame.append method is deprecated and will be removed from pandas in a future version. Use pandas.concat instead.\n",
      "  new_df = new_df.append({'coordinates': lat_lon_values, 'length_km': length_km, 'timestamps_list': row_timestamps}, ignore_index=True)\n",
      "c:\\Users\\LukasKoch\\DKSR Daten-Kompetenzzentrum für Städte & Regionen\\DKSR Tech Page - Dokumente\\GitHub\\DKSR-GitHub\\Urban-Data-Analytics\\dummy_data_generator.py:139: FutureWarning: The frame.append method is deprecated and will be removed from pandas in a future version. Use pandas.concat instead.\n",
      "  new_df = new_df.append({'coordinates': lat_lon_values, 'length_km': length_km, 'timestamps_list': row_timestamps}, ignore_index=True)\n",
      "c:\\Users\\LukasKoch\\DKSR Daten-Kompetenzzentrum für Städte & Regionen\\DKSR Tech Page - Dokumente\\GitHub\\DKSR-GitHub\\Urban-Data-Analytics\\dummy_data_generator.py:139: FutureWarning: The frame.append method is deprecated and will be removed from pandas in a future version. Use pandas.concat instead.\n",
      "  new_df = new_df.append({'coordinates': lat_lon_values, 'length_km': length_km, 'timestamps_list': row_timestamps}, ignore_index=True)\n",
      "c:\\Users\\LukasKoch\\DKSR Daten-Kompetenzzentrum für Städte & Regionen\\DKSR Tech Page - Dokumente\\GitHub\\DKSR-GitHub\\Urban-Data-Analytics\\dummy_data_generator.py:139: FutureWarning: The frame.append method is deprecated and will be removed from pandas in a future version. Use pandas.concat instead.\n",
      "  new_df = new_df.append({'coordinates': lat_lon_values, 'length_km': length_km, 'timestamps_list': row_timestamps}, ignore_index=True)\n",
      "c:\\Users\\LukasKoch\\DKSR Daten-Kompetenzzentrum für Städte & Regionen\\DKSR Tech Page - Dokumente\\GitHub\\DKSR-GitHub\\Urban-Data-Analytics\\dummy_data_generator.py:139: FutureWarning: The frame.append method is deprecated and will be removed from pandas in a future version. Use pandas.concat instead.\n",
      "  new_df = new_df.append({'coordinates': lat_lon_values, 'length_km': length_km, 'timestamps_list': row_timestamps}, ignore_index=True)\n",
      "c:\\Users\\LukasKoch\\DKSR Daten-Kompetenzzentrum für Städte & Regionen\\DKSR Tech Page - Dokumente\\GitHub\\DKSR-GitHub\\Urban-Data-Analytics\\dummy_data_generator.py:139: FutureWarning: The frame.append method is deprecated and will be removed from pandas in a future version. Use pandas.concat instead.\n",
      "  new_df = new_df.append({'coordinates': lat_lon_values, 'length_km': length_km, 'timestamps_list': row_timestamps}, ignore_index=True)\n",
      "c:\\Users\\LukasKoch\\DKSR Daten-Kompetenzzentrum für Städte & Regionen\\DKSR Tech Page - Dokumente\\GitHub\\DKSR-GitHub\\Urban-Data-Analytics\\dummy_data_generator.py:139: FutureWarning: The frame.append method is deprecated and will be removed from pandas in a future version. Use pandas.concat instead.\n",
      "  new_df = new_df.append({'coordinates': lat_lon_values, 'length_km': length_km, 'timestamps_list': row_timestamps}, ignore_index=True)\n",
      "c:\\Users\\LukasKoch\\DKSR Daten-Kompetenzzentrum für Städte & Regionen\\DKSR Tech Page - Dokumente\\GitHub\\DKSR-GitHub\\Urban-Data-Analytics\\dummy_data_generator.py:139: FutureWarning: The frame.append method is deprecated and will be removed from pandas in a future version. Use pandas.concat instead.\n",
      "  new_df = new_df.append({'coordinates': lat_lon_values, 'length_km': length_km, 'timestamps_list': row_timestamps}, ignore_index=True)\n",
      "c:\\Users\\LukasKoch\\DKSR Daten-Kompetenzzentrum für Städte & Regionen\\DKSR Tech Page - Dokumente\\GitHub\\DKSR-GitHub\\Urban-Data-Analytics\\dummy_data_generator.py:139: FutureWarning: The frame.append method is deprecated and will be removed from pandas in a future version. Use pandas.concat instead.\n",
      "  new_df = new_df.append({'coordinates': lat_lon_values, 'length_km': length_km, 'timestamps_list': row_timestamps}, ignore_index=True)\n",
      "c:\\Users\\LukasKoch\\DKSR Daten-Kompetenzzentrum für Städte & Regionen\\DKSR Tech Page - Dokumente\\GitHub\\DKSR-GitHub\\Urban-Data-Analytics\\dummy_data_generator.py:139: FutureWarning: The frame.append method is deprecated and will be removed from pandas in a future version. Use pandas.concat instead.\n",
      "  new_df = new_df.append({'coordinates': lat_lon_values, 'length_km': length_km, 'timestamps_list': row_timestamps}, ignore_index=True)\n",
      "c:\\Users\\LukasKoch\\DKSR Daten-Kompetenzzentrum für Städte & Regionen\\DKSR Tech Page - Dokumente\\GitHub\\DKSR-GitHub\\Urban-Data-Analytics\\dummy_data_generator.py:139: FutureWarning: The frame.append method is deprecated and will be removed from pandas in a future version. Use pandas.concat instead.\n",
      "  new_df = new_df.append({'coordinates': lat_lon_values, 'length_km': length_km, 'timestamps_list': row_timestamps}, ignore_index=True)\n",
      "c:\\Users\\LukasKoch\\DKSR Daten-Kompetenzzentrum für Städte & Regionen\\DKSR Tech Page - Dokumente\\GitHub\\DKSR-GitHub\\Urban-Data-Analytics\\dummy_data_generator.py:139: FutureWarning: The frame.append method is deprecated and will be removed from pandas in a future version. Use pandas.concat instead.\n",
      "  new_df = new_df.append({'coordinates': lat_lon_values, 'length_km': length_km, 'timestamps_list': row_timestamps}, ignore_index=True)\n",
      "c:\\Users\\LukasKoch\\DKSR Daten-Kompetenzzentrum für Städte & Regionen\\DKSR Tech Page - Dokumente\\GitHub\\DKSR-GitHub\\Urban-Data-Analytics\\dummy_data_generator.py:139: FutureWarning: The frame.append method is deprecated and will be removed from pandas in a future version. Use pandas.concat instead.\n",
      "  new_df = new_df.append({'coordinates': lat_lon_values, 'length_km': length_km, 'timestamps_list': row_timestamps}, ignore_index=True)\n",
      "c:\\Users\\LukasKoch\\DKSR Daten-Kompetenzzentrum für Städte & Regionen\\DKSR Tech Page - Dokumente\\GitHub\\DKSR-GitHub\\Urban-Data-Analytics\\dummy_data_generator.py:139: FutureWarning: The frame.append method is deprecated and will be removed from pandas in a future version. Use pandas.concat instead.\n",
      "  new_df = new_df.append({'coordinates': lat_lon_values, 'length_km': length_km, 'timestamps_list': row_timestamps}, ignore_index=True)\n",
      "c:\\Users\\LukasKoch\\DKSR Daten-Kompetenzzentrum für Städte & Regionen\\DKSR Tech Page - Dokumente\\GitHub\\DKSR-GitHub\\Urban-Data-Analytics\\dummy_data_generator.py:139: FutureWarning: The frame.append method is deprecated and will be removed from pandas in a future version. Use pandas.concat instead.\n",
      "  new_df = new_df.append({'coordinates': lat_lon_values, 'length_km': length_km, 'timestamps_list': row_timestamps}, ignore_index=True)\n",
      "c:\\Users\\LukasKoch\\DKSR Daten-Kompetenzzentrum für Städte & Regionen\\DKSR Tech Page - Dokumente\\GitHub\\DKSR-GitHub\\Urban-Data-Analytics\\dummy_data_generator.py:139: FutureWarning: The frame.append method is deprecated and will be removed from pandas in a future version. Use pandas.concat instead.\n",
      "  new_df = new_df.append({'coordinates': lat_lon_values, 'length_km': length_km, 'timestamps_list': row_timestamps}, ignore_index=True)\n",
      "c:\\Users\\LukasKoch\\DKSR Daten-Kompetenzzentrum für Städte & Regionen\\DKSR Tech Page - Dokumente\\GitHub\\DKSR-GitHub\\Urban-Data-Analytics\\dummy_data_generator.py:139: FutureWarning: The frame.append method is deprecated and will be removed from pandas in a future version. Use pandas.concat instead.\n",
      "  new_df = new_df.append({'coordinates': lat_lon_values, 'length_km': length_km, 'timestamps_list': row_timestamps}, ignore_index=True)\n",
      "c:\\Users\\LukasKoch\\DKSR Daten-Kompetenzzentrum für Städte & Regionen\\DKSR Tech Page - Dokumente\\GitHub\\DKSR-GitHub\\Urban-Data-Analytics\\dummy_data_generator.py:139: FutureWarning: The frame.append method is deprecated and will be removed from pandas in a future version. Use pandas.concat instead.\n",
      "  new_df = new_df.append({'coordinates': lat_lon_values, 'length_km': length_km, 'timestamps_list': row_timestamps}, ignore_index=True)\n",
      "c:\\Users\\LukasKoch\\DKSR Daten-Kompetenzzentrum für Städte & Regionen\\DKSR Tech Page - Dokumente\\GitHub\\DKSR-GitHub\\Urban-Data-Analytics\\dummy_data_generator.py:139: FutureWarning: The frame.append method is deprecated and will be removed from pandas in a future version. Use pandas.concat instead.\n",
      "  new_df = new_df.append({'coordinates': lat_lon_values, 'length_km': length_km, 'timestamps_list': row_timestamps}, ignore_index=True)\n",
      "c:\\Users\\LukasKoch\\DKSR Daten-Kompetenzzentrum für Städte & Regionen\\DKSR Tech Page - Dokumente\\GitHub\\DKSR-GitHub\\Urban-Data-Analytics\\dummy_data_generator.py:139: FutureWarning: The frame.append method is deprecated and will be removed from pandas in a future version. Use pandas.concat instead.\n",
      "  new_df = new_df.append({'coordinates': lat_lon_values, 'length_km': length_km, 'timestamps_list': row_timestamps}, ignore_index=True)\n",
      "c:\\Users\\LukasKoch\\DKSR Daten-Kompetenzzentrum für Städte & Regionen\\DKSR Tech Page - Dokumente\\GitHub\\DKSR-GitHub\\Urban-Data-Analytics\\dummy_data_generator.py:139: FutureWarning: The frame.append method is deprecated and will be removed from pandas in a future version. Use pandas.concat instead.\n",
      "  new_df = new_df.append({'coordinates': lat_lon_values, 'length_km': length_km, 'timestamps_list': row_timestamps}, ignore_index=True)\n",
      "c:\\Users\\LukasKoch\\DKSR Daten-Kompetenzzentrum für Städte & Regionen\\DKSR Tech Page - Dokumente\\GitHub\\DKSR-GitHub\\Urban-Data-Analytics\\dummy_data_generator.py:139: FutureWarning: The frame.append method is deprecated and will be removed from pandas in a future version. Use pandas.concat instead.\n",
      "  new_df = new_df.append({'coordinates': lat_lon_values, 'length_km': length_km, 'timestamps_list': row_timestamps}, ignore_index=True)\n",
      "c:\\Users\\LukasKoch\\DKSR Daten-Kompetenzzentrum für Städte & Regionen\\DKSR Tech Page - Dokumente\\GitHub\\DKSR-GitHub\\Urban-Data-Analytics\\dummy_data_generator.py:139: FutureWarning: The frame.append method is deprecated and will be removed from pandas in a future version. Use pandas.concat instead.\n",
      "  new_df = new_df.append({'coordinates': lat_lon_values, 'length_km': length_km, 'timestamps_list': row_timestamps}, ignore_index=True)\n",
      "c:\\Users\\LukasKoch\\DKSR Daten-Kompetenzzentrum für Städte & Regionen\\DKSR Tech Page - Dokumente\\GitHub\\DKSR-GitHub\\Urban-Data-Analytics\\dummy_data_generator.py:139: FutureWarning: The frame.append method is deprecated and will be removed from pandas in a future version. Use pandas.concat instead.\n",
      "  new_df = new_df.append({'coordinates': lat_lon_values, 'length_km': length_km, 'timestamps_list': row_timestamps}, ignore_index=True)\n",
      "c:\\Users\\LukasKoch\\DKSR Daten-Kompetenzzentrum für Städte & Regionen\\DKSR Tech Page - Dokumente\\GitHub\\DKSR-GitHub\\Urban-Data-Analytics\\dummy_data_generator.py:139: FutureWarning: The frame.append method is deprecated and will be removed from pandas in a future version. Use pandas.concat instead.\n",
      "  new_df = new_df.append({'coordinates': lat_lon_values, 'length_km': length_km, 'timestamps_list': row_timestamps}, ignore_index=True)\n"
     ]
    }
   ],
   "source": [
    "df = trace_transform(df=df, speed=15, distance_delta=0.0001)"
   ]
  },
  {
   "cell_type": "code",
   "execution_count": 8,
   "metadata": {},
   "outputs": [
    {
     "data": {
      "text/html": [
       "<div>\n",
       "<style scoped>\n",
       "    .dataframe tbody tr th:only-of-type {\n",
       "        vertical-align: middle;\n",
       "    }\n",
       "\n",
       "    .dataframe tbody tr th {\n",
       "        vertical-align: top;\n",
       "    }\n",
       "\n",
       "    .dataframe thead th {\n",
       "        text-align: right;\n",
       "    }\n",
       "</style>\n",
       "<table border=\"1\" class=\"dataframe\">\n",
       "  <thead>\n",
       "    <tr style=\"text-align: right;\">\n",
       "      <th></th>\n",
       "      <th>coordinates</th>\n",
       "      <th>length_km</th>\n",
       "      <th>timestamps_list</th>\n",
       "    </tr>\n",
       "  </thead>\n",
       "  <tbody>\n",
       "    <tr>\n",
       "      <th>0</th>\n",
       "      <td>[[13.4398505, 52.479385], [13.43975230276403, ...</td>\n",
       "      <td>4.193768</td>\n",
       "      <td>[1683709589, 1683709591, 1683709593, 168370959...</td>\n",
       "    </tr>\n",
       "    <tr>\n",
       "      <th>1</th>\n",
       "      <td>[[13.3623879, 52.478999], [13.362480207972437,...</td>\n",
       "      <td>2.644257</td>\n",
       "      <td>[1683709589, 1683709592, 1683709595, 168370959...</td>\n",
       "    </tr>\n",
       "    <tr>\n",
       "      <th>2</th>\n",
       "      <td>[[13.3561118, 52.4859791], [13.356187685045509...</td>\n",
       "      <td>1.024246</td>\n",
       "      <td>[1683709589, 1683709591, 1683709593, 168370959...</td>\n",
       "    </tr>\n",
       "    <tr>\n",
       "      <th>3</th>\n",
       "      <td>[[13.3858234, 52.4844619], [13.385724343070285...</td>\n",
       "      <td>7.716281</td>\n",
       "      <td>[1683709589, 1683709591, 1683709593, 168370959...</td>\n",
       "    </tr>\n",
       "    <tr>\n",
       "      <th>4</th>\n",
       "      <td>[[13.4358193, 52.4837392], [13.435908718103287...</td>\n",
       "      <td>4.485931</td>\n",
       "      <td>[1683709589, 1683709591, 1683709593, 168370959...</td>\n",
       "    </tr>\n",
       "    <tr>\n",
       "      <th>5</th>\n",
       "      <td>[[13.3951472, 52.4989028], [13.395246647747292...</td>\n",
       "      <td>5.245190</td>\n",
       "      <td>[1683709589, 1683709591, 1683709593, 168370959...</td>\n",
       "    </tr>\n",
       "    <tr>\n",
       "      <th>6</th>\n",
       "      <td>[[13.3369571, 52.4858086], [13.33685724130637,...</td>\n",
       "      <td>7.343469</td>\n",
       "      <td>[1683709589, 1683709591, 1683709593, 168370959...</td>\n",
       "    </tr>\n",
       "    <tr>\n",
       "      <th>7</th>\n",
       "      <td>[[13.4276733, 52.4681133], [13.427701220612072...</td>\n",
       "      <td>10.285902</td>\n",
       "      <td>[1683709589, 1683709591, 1683709593, 168370959...</td>\n",
       "    </tr>\n",
       "    <tr>\n",
       "      <th>8</th>\n",
       "      <td>[[13.3899696, 52.465742], [13.389870736262383,...</td>\n",
       "      <td>9.697006</td>\n",
       "      <td>[1683709589, 1683709591, 1683709593, 168370959...</td>\n",
       "    </tr>\n",
       "    <tr>\n",
       "      <th>9</th>\n",
       "      <td>[[13.4328748, 52.4947957], [13.432777012503076...</td>\n",
       "      <td>14.766882</td>\n",
       "      <td>[1683709589, 1683709591, 1683709593, 168370959...</td>\n",
       "    </tr>\n",
       "  </tbody>\n",
       "</table>\n",
       "</div>"
      ],
      "text/plain": [
       "                                         coordinates  length_km  \\\n",
       "0  [[13.4398505, 52.479385], [13.43975230276403, ...   4.193768   \n",
       "1  [[13.3623879, 52.478999], [13.362480207972437,...   2.644257   \n",
       "2  [[13.3561118, 52.4859791], [13.356187685045509...   1.024246   \n",
       "3  [[13.3858234, 52.4844619], [13.385724343070285...   7.716281   \n",
       "4  [[13.4358193, 52.4837392], [13.435908718103287...   4.485931   \n",
       "5  [[13.3951472, 52.4989028], [13.395246647747292...   5.245190   \n",
       "6  [[13.3369571, 52.4858086], [13.33685724130637,...   7.343469   \n",
       "7  [[13.4276733, 52.4681133], [13.427701220612072...  10.285902   \n",
       "8  [[13.3899696, 52.465742], [13.389870736262383,...   9.697006   \n",
       "9  [[13.4328748, 52.4947957], [13.432777012503076...  14.766882   \n",
       "\n",
       "                                     timestamps_list  \n",
       "0  [1683709589, 1683709591, 1683709593, 168370959...  \n",
       "1  [1683709589, 1683709592, 1683709595, 168370959...  \n",
       "2  [1683709589, 1683709591, 1683709593, 168370959...  \n",
       "3  [1683709589, 1683709591, 1683709593, 168370959...  \n",
       "4  [1683709589, 1683709591, 1683709593, 168370959...  \n",
       "5  [1683709589, 1683709591, 1683709593, 168370959...  \n",
       "6  [1683709589, 1683709591, 1683709593, 168370959...  \n",
       "7  [1683709589, 1683709591, 1683709593, 168370959...  \n",
       "8  [1683709589, 1683709591, 1683709593, 168370959...  \n",
       "9  [1683709589, 1683709591, 1683709593, 168370959...  "
      ]
     },
     "execution_count": 8,
     "metadata": {},
     "output_type": "execute_result"
    }
   ],
   "source": [
    "df.head(10)"
   ]
  },
  {
   "cell_type": "code",
   "execution_count": 9,
   "metadata": {},
   "outputs": [],
   "source": [
    "#config=trip_layer_config.config"
   ]
  },
  {
   "cell_type": "code",
   "execution_count": 10,
   "metadata": {},
   "outputs": [
    {
     "name": "stdout",
     "output_type": "stream",
     "text": [
      "User Guide: https://docs.kepler.gl/docs/keplergl-jupyter\n"
     ]
    },
    {
     "data": {
      "application/vnd.jupyter.widget-view+json": {
       "model_id": "3aa16c1c7a3841d68211416069021000",
       "version_major": 2,
       "version_minor": 0
      },
      "text/plain": [
       "KeplerGl(data={'Scooters':                                              geo_json\n",
       "0   {'type': 'LineString', 'c…"
      ]
     },
     "metadata": {},
     "output_type": "display_data"
    }
   ],
   "source": [
    "trip_layer(df)"
   ]
  },
  {
   "cell_type": "code",
   "execution_count": null,
   "metadata": {},
   "outputs": [],
   "source": []
  }
 ],
 "metadata": {
  "kernelspec": {
   "display_name": "dksr_kgl",
   "language": "python",
   "name": "python3"
  },
  "language_info": {
   "codemirror_mode": {
    "name": "ipython",
    "version": 3
   },
   "file_extension": ".py",
   "mimetype": "text/x-python",
   "name": "python",
   "nbconvert_exporter": "python",
   "pygments_lexer": "ipython3",
   "version": "3.10.9"
  },
  "orig_nbformat": 4
 },
 "nbformat": 4,
 "nbformat_minor": 2
}
